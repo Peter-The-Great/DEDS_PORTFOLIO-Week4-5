{
 "cells": [
  {
   "cell_type": "markdown",
   "metadata": {},
   "source": [
    "# PR 4.3, 5.2 en 5.3\n",
    "Van Pjotr en Sennen\n",
    "\n",
    "Hierin gaan wij een paar queries aanvragen aan de database die wij hebben gemaakt gebasseerd op de ETL diagram van de Great_Outdoors.\n",
    "\n",
    "Hieronder zullen we beginnen met de setup van de libraries en het verbinden met de database. We zullen de pyodbc library gebruiken om de verbinding tussen SSMS en Python. Verder gebruiken we ook pandas om data makkelijk te lezen."
   ]
  },
  {
   "cell_type": "code",
   "execution_count": 4,
   "metadata": {},
   "outputs": [
    {
     "data": {
      "text/plain": [
       "True"
      ]
     },
     "execution_count": 4,
     "metadata": {},
     "output_type": "execute_result"
    }
   ],
   "source": [
    "import pandas as pd\n",
    "import pyodbc\n",
    "import os\n",
    "import sqlite3\n",
    "from dotenv import load_dotenv\n",
    "import sqlalchemy\n",
    "import json\n",
    "import warnings\n",
    "warnings.filterwarnings(\"ignore\")\n",
    "load_dotenv()"
   ]
  },
  {
   "cell_type": "code",
   "execution_count": 5,
   "metadata": {},
   "outputs": [
    {
     "name": "stdout",
     "output_type": "stream",
     "text": [
      "<pyodbc.Cursor object at 0x000001F87F3C3430>\n"
     ]
    }
   ],
   "source": [
    "DB = {'servername': os.getenv('NAME'),\n",
    "      'database': os.getenv('DATABASE'),\n",
    "      'username': os.getenv('USER'),\n",
    "      'password': os.getenv('PASSWORD')}\n",
    "\n",
    "# Increase the connection timeout value to 30 seconds\n",
    "conn_str = f\"DRIVER=SQL Server;SERVER={DB['servername']};DATABASE={DB['database']};UID={DB['username']};PWD={DB['password']};Trusted_Connection=yes;Connection\"\n",
    "\n",
    "conn = pyodbc.connect(conn_str, timeout=120)\n",
    "cursor = conn.cursor()\n",
    "\n",
    "engine = sqlalchemy.create_engine(f\"mssql+pyodbc:///?odbc_connect={conn_str}\")\n",
    "\n",
    "# Hoe checken we of de connectie werkt?\n",
    "print(cursor.execute(\"SELECT @@version;\"))"
   ]
  },
  {
   "cell_type": "markdown",
   "metadata": {},
   "source": [
    "Om ervoor te zorgen dat we weten dat we data kunnen aanvragen vanaf de server zullen we hier een paar queries executeren. Zodat we kunnen bevestigen dat we alles goed hebben geconfigureerd. Eerst pakken we alle tabelen van uit de database."
   ]
  },
  {
   "cell_type": "code",
   "execution_count": 6,
   "metadata": {},
   "outputs": [
    {
     "name": "stdout",
     "output_type": "stream",
     "text": [
      "PRODUCT\n"
     ]
    }
   ],
   "source": [
    "cursor.execute(\"SELECT t.name FROM sys.tables t\")\n",
    "tables = cursor.fetchall()\n",
    "\n",
    "# Voor elke tabel in de database print de naam van de tabel\n",
    "if(tables == []):\n",
    "    print(\"No tables found, the database is empty.\")\n",
    "else:\n",
    "    for table in tables:\n",
    "        table = table[0]\n",
    "        print(table)\n",
    "    for table in tables:\n",
    "        table_name = table[0]\n",
    "        cursor.execute(f\"DROP TABLE {table_name}\")\n",
    "        conn.commit()\n",
    "        "
   ]
  },
  {
   "cell_type": "markdown",
   "metadata": {},
   "source": [
    "Hieronder checken we of we alle drivers hebben geinstalleerd. Meestal maken we gebruikt van de SQL Server driver en SQLite driver. Maar als je op een nieuwer systeem zit kan je ook gebruik maken van de Microsoft Access driver gebruik maken."
   ]
  },
  {
   "cell_type": "code",
   "execution_count": 7,
   "metadata": {},
   "outputs": [
    {
     "data": {
      "text/plain": [
       "['SQL Server',\n",
       " 'MySQL ODBC 8.0 ANSI Driver',\n",
       " 'MySQL ODBC 8.0 Unicode Driver',\n",
       " 'SQL Server Native Client RDA 11.0',\n",
       " 'ODBC Driver 17 for SQL Server',\n",
       " 'Microsoft Access Driver (*.mdb, *.accdb)',\n",
       " 'Microsoft Excel Driver (*.xls, *.xlsx, *.xlsm, *.xlsb)',\n",
       " 'Microsoft Access Text Driver (*.txt, *.csv)']"
      ]
     },
     "execution_count": 7,
     "metadata": {},
     "output_type": "execute_result"
    }
   ],
   "source": [
    "pyodbc.drivers()"
   ]
  },
  {
   "cell_type": "markdown",
   "metadata": {},
   "source": [
    "Daarna wat we willen zijn dus de functies maken die we later in het project gaan gebruiken om de data in te laden in ons project. Zodat we de data uit de bron kunnen transformeren en overzetten naar onze SQL Server database. We maken hiervoor een extract functie maken en een laad functie."
   ]
  },
  {
   "cell_type": "markdown",
   "metadata": {},
   "source": [
    "## Extract\n",
    "Eerst gaan we de data uit de access database halen en ervoor zorgen dat we ze later goed kunnen transformeren in de database."
   ]
  },
  {
   "cell_type": "code",
   "execution_count": 8,
   "metadata": {},
   "outputs": [
    {
     "name": "stdout",
     "output_type": "stream",
     "text": [
      "Import sales\n",
      "Imported staff\n",
      "Imported crm tables\n",
      "Imported inventory\n",
      "Imported sales_product_forecast\n"
     ]
    }
   ],
   "source": [
    "select_tables = \"SELECT name FROM sqlite_master WHERE type='table'\"\n",
    "\n",
    "# Verbind met sqlite go_sales staff\n",
    "sales_conn = sqlite3.connect(\"go_sales.sqlite\")\n",
    "sales_tables = pd.read_sql_query(select_tables, sales_conn)\n",
    "\n",
    "sales_country       = pd.read_sql_query(\"SELECT * FROM country;\", sales_conn)\n",
    "order_details       = pd.read_sql_query(\"SELECT * FROM order_details;\", sales_conn)\n",
    "order_header        = pd.read_sql_query(\"SELECT * FROM order_header;\", sales_conn)\n",
    "order_method        = pd.read_sql_query(\"SELECT * FROM order_method;\", sales_conn)\n",
    "product             = pd.read_sql_query(\"SELECT * FROM product;\", sales_conn)\n",
    "product_line        = pd.read_sql_query(\"SELECT * FROM product_line;\", sales_conn)\n",
    "product_type        = pd.read_sql_query(\"SELECT * FROM product_type;\", sales_conn)\n",
    "sales_retailer_site = pd.read_sql_query(\"SELECT * FROM retailer_site;\", sales_conn)\n",
    "return_reason       = pd.read_sql_query(\"SELECT * FROM return_reason;\", sales_conn)\n",
    "returned_item       = pd.read_sql_query(\"SELECT * FROM returned_item;\", sales_conn)\n",
    "sales_branch        = pd.read_sql_query(\"SELECT * FROM sales_branch;\", sales_conn)\n",
    "sales_staff         = pd.read_sql_query(\"SELECT * FROM sales_staff;\", sales_conn)\n",
    "SALES_TARGETData    = pd.read_sql_query(\"SELECT * FROM SALES_TARGETData;\", sales_conn)\n",
    "sqlite_sequence     = pd.read_sql_query(\"SELECT * FROM sqlite_sequence;\", sales_conn)\n",
    "print(\"Import sales\")\n",
    "\n",
    "staff_conn = sqlite3.connect(\"go_staff.sqlite\")\n",
    "staff_tables = pd.read_sql_query(select_tables, staff_conn)\n",
    "course            = pd.read_sql_query(\"SELECT * FROM course;\", staff_conn)\n",
    "sales_branch      = pd.read_sql_query(\"SELECT * FROM sales_branch;\", staff_conn)\n",
    "sales_staff       = pd.read_sql_query(\"SELECT * FROM sales_staff;\", staff_conn)\n",
    "satisfaction      = pd.read_sql_query(\"SELECT * FROM satisfaction;\", staff_conn)\n",
    "satisfaction_type = pd.read_sql_query(\"SELECT * FROM satisfaction_type;\", staff_conn)\n",
    "training          = pd.read_sql_query(\"SELECT * FROM training;\", staff_conn)\n",
    "print(\"Imported staff\")\n",
    "\n",
    "crm_conn = sqlite3.connect(\"go_crm.sqlite\")\n",
    "crm_tables = pd.read_sql_query(select_tables, crm_conn)\n",
    "                           \n",
    "age_group             = pd.read_sql_query(\"SELECT * FROM age_group;\", crm_conn)\n",
    "crm_country           = pd.read_sql_query(\"SELECT * FROM country;\", crm_conn)\n",
    "retailer              = pd.read_sql_query(\"SELECT * FROM retailer;\", crm_conn)\n",
    "retailer_contact      = pd.read_sql_query(\"SELECT * FROM retailer_contact;\", crm_conn)\n",
    "retailer_headquarters = pd.read_sql_query(\"SELECT * FROM retailer_headquarters;\", crm_conn)\n",
    "retailer_segment      = pd.read_sql_query(\"SELECT * FROM retailer_segment;\", crm_conn)\n",
    "crm_retailer_site     = pd.read_sql_query(\"SELECT * FROM retailer_site;\", crm_conn)\n",
    "retailer_type         = pd.read_sql_query(\"SELECT * FROM retailer_type;\", crm_conn)\n",
    "sales_demographic     = pd.read_sql_query(\"SELECT * FROM sales_demographic;\", crm_conn)\n",
    "sales_territory       = pd.read_sql_query(\"SELECT * FROM sales_territory;\", crm_conn)\n",
    "print(\"Imported crm tables\")\n",
    "\n",
    "inventory_level = pd.read_csv(\"GO_SALES_INVENTORY_LEVELSData.csv\")\n",
    "print(\"Imported inventory\")\n",
    "\n",
    "sales_forecast = pd.read_csv(\"GO_SALES_PRODUCT_FORECASTData.csv\")\n",
    "print(\"Imported sales_product_forecast\")"
   ]
  },
  {
   "cell_type": "markdown",
   "metadata": {},
   "source": [
    "## Transform\n",
    "Nadat we de data eruit hebben gehaald, gaan de data transformeren, zodat we ze in de database kunnen stoppen. Eerst doen maken we een merge functie van de data die we hebben geëxtraheerd en de data die we al hebben in de database. Daarna gaan we de data transformeren zodat we ze in de database kunnen stoppen. Ik maak wat functies die ik heb gevonden op GitHub waarmee we makkelijk de data kunnen mergen. Hierin kan ik dat makkelijk uitvoeren."
   ]
  },
  {
   "cell_type": "markdown",
   "metadata": {},
   "source": [
    "### Merge Functie"
   ]
  },
  {
   "cell_type": "code",
   "execution_count": 9,
   "metadata": {},
   "outputs": [],
   "source": [
    "\"\"\"\n",
    "Flexible method to merge two tables\n",
    "- NaN values of one dataframe can be filled by the other dataframe\n",
    "- Uses all available columns\n",
    "- Errors when a row of the two dataframes doesn't match (df1 has 'A' and df2 has 'B' in row)\n",
    "\"\"\"\n",
    "def merge_tables(df1, df2, index_col):\n",
    "    # Zorg ervoor dat het index_col een kolom is in beide dataframes\n",
    "    if index_col not in df1.columns or index_col not in df2.columns:\n",
    "        raise KeyError(f\"{index_col} must be a column in both DataFrames.\")\n",
    "    \n",
    "    df1 = df1.set_index(index_col)\n",
    "    df2 = df2.set_index(index_col)\n",
    "\n",
    "    # Identificeer de kolommen die in beide dataframes voorkomen\n",
    "    common_columns = df1.columns.intersection(df2.columns)\n",
    "    exclusive_df1 = df1.columns.difference(df2.columns)\n",
    "    exclusive_df2 = df2.columns.difference(df1.columns)\n",
    "\n",
    "    # Concatenate exclusive columns from each DataFrame onto the other\n",
    "    df1_combined = pd.concat([df1, df2[exclusive_df2]], axis=1, sort=False)\n",
    "    df2_combined = pd.concat([df2, df1[exclusive_df1]], axis=1, sort=False)\n",
    "\n",
    "    # Los conflicts op in de common columns\n",
    "    for col in common_columns:\n",
    "        # Zet de kolommen van de dataframes naast elkaar\n",
    "        series1, series2 = df1_combined[col].align(df2_combined[col])\n",
    "\n",
    "        # Check voor conflicts die niet opgelost kunnen worden (waar beide dataframes een waarde hebben)\n",
    "        conflict_mask = (~series1.isnull() & ~series2.isnull() & (series1 != series2))\n",
    "        if conflict_mask.any():\n",
    "            raise ValueError(f\"Merge failed due to conflict in column '{col}'\")\n",
    "\n",
    "        # Use values from df2 where df1 is null (prioritizing df1 values)\n",
    "        df1_combined[col] = series1.combine_first(series2)\n",
    "\n",
    "    return df1_combined\n",
    "\n",
    "# Merge duplicate tables into single table\n",
    "retailer_site = merge_tables(sales_retailer_site, crm_retailer_site, 'RETAILER_SITE_CODE')\n",
    "# Column name mismatch\n",
    "sales_country = sales_country.rename(columns={'COUNTRY': 'COUNTRY_EN'})\n",
    "country = merge_tables(sales_country, crm_country, 'COUNTRY_CODE')"
   ]
  },
  {
   "cell_type": "markdown",
   "metadata": {},
   "source": [
    "### JSON importeren\n",
    "Eerst zorgen we ervoor dat we de rename.json gaan importeren, waar ik de nieuwe namen van de kolommen heb gezet. Met deze kolommen gaan we de data mergen."
   ]
  },
  {
   "cell_type": "code",
   "execution_count": 10,
   "metadata": {},
   "outputs": [],
   "source": [
    "# importeer de json file\n",
    "with open('rename.json') as f:\n",
    "    json_file = json.load(f)\n",
    "\n",
    "# Geef een lijst van alle waardes in de json file\n",
    "valid_columns = list(json_file.values())\n",
    "\n",
    "# Filter de kolommen van de dataframes, door alleen de kolommen te houden die in de json file staan.\n",
    "def filterColumns(dataframe):\n",
    "    valid_columns_set = set(valid_columns)\n",
    "    actual_columns_set = set(dataframe.columns)\n",
    "    intersection_columns = list(actual_columns_set.intersection(valid_columns_set))\n",
    "\n",
    "    # Gebruik de kolommen die in de json file staan om de dataframes te filteren\n",
    "    return dataframe[intersection_columns]\n",
    "\n",
    "# Filter de kolommen van de dataframes, door alleen de kolommen te houden die niet in de json file staan.\n",
    "def excludeColumns(dataframe, column_names):\n",
    "    return dataframe[dataframe.columns.difference(column_names)]\n",
    "\n",
    "# Check de grootte van de dataframes en print een bericht als de grootte niet overeenkomt met de verwachte grootte\n",
    "def sizeCheck(df, expected_column_count):\n",
    "    actual_column_count = len(df.columns)\n",
    "    if actual_column_count == expected_column_count:\n",
    "        print(f'Table has {actual_column_count} columns')\n",
    "    else:\n",
    "        raise Exception(f'Table has {actual_column_count} columns, expected {expected_column_count}')\n"
   ]
  },
  {
   "cell_type": "markdown",
   "metadata": {},
   "source": [
    "### Columns aanpassen\n",
    "Ik neem nu even wat code over van Joran zijn notebook, omdat hij een makkelijke manier heeft gegeven om types aan te geven."
   ]
  },
  {
   "cell_type": "code",
   "execution_count": 13,
   "metadata": {},
   "outputs": [],
   "source": [
    "column_types = {\n",
    "    'name': 'NVARCHAR(255)',\n",
    "    'image': 'NVARCHAR(255)',\n",
    "    'id': 'NVARCHAR(255)',\n",
    "    'description': 'VARCHAR(MAX)',\n",
    "    'money': 'DECIMAL(19,4)',\n",
    "    'percentage': 'DECIMAL(12,12)',\n",
    "    'date': 'NVARCHAR(255)',\n",
    "    'code': 'NVARCHAR(40)',\n",
    "    'char': 'CHAR(1)',\n",
    "    'number': 'INT',\n",
    "    'phone': 'NVARCHAR(30)',\n",
    "    'address': 'NVARCHAR(80)',\n",
    "    'bool': 'BIT',\n",
    "}\n",
    "\n",
    "def getTypes():\n",
    "    types = {}\n",
    "    for column in json_file.values():\n",
    "        column_type = column.rsplit('_', 1)[1]\n",
    "        types[column_type] = ''\n",
    "    return types\n",
    "\n",
    "def columnType(column_name):\n",
    "    err = ''\n",
    "    try:\n",
    "        return column_types[column_name.rsplit('_', 1)[1]]\n",
    "    except IndexError:\n",
    "        err = \"Column name doesn't contain a type\"\n",
    "    except KeyError:\n",
    "        err = \"Column type not found\"\n",
    "    raise Exception(err)\n",
    "\n",
    "def createTable(dataframe, PK):\n",
    "    # Primaire sleutel waarvan de type-extensie is verwijderd\n",
    "    # Handarbeid is het niet waard!\n",
    "    tablename = PK.rsplit('_', 1)[0]\n",
    "\n",
    "    # Voeg primaire sleutel toe als eerste kolom\n",
    "    columns = f'{PK} {columnType(PK)} NOT NULL PRIMARY KEY'\n",
    "\n",
    "    # Voeg alle andere kolommen toe\n",
    "    for column in dataframe.columns:\n",
    "        if column != PK: # PK is al toegevoegd\n",
    "            columns += f', {column} {columnType(column)}'\n",
    "\n",
    "    # Maak de tabel command aan.\n",
    "    command = f\"CREATE TABLE {tablename} ({columns})\"\n",
    "\n",
    "    print(command)\n",
    "\n",
    "    # Hier executeren we de create table command die we net hebben aangemaakt en het is een try-except block om te controleren of de tabel al bestaat.\n",
    "    try:\n",
    "        cursor.execute(command)\n",
    "        cursor.commit()\n",
    "    except pyodbc.Error as e:\n",
    "        if 'There is already an object named' in str(e):\n",
    "            print('Table already exists in database')\n",
    "        else:\n",
    "            raise(e)\n",
    "    \n",
    "    columns = ', '.join(dataframe.columns)\n",
    "\n",
    "    # Elke rij in het DataFrame doorlopen en in de tabel invoegen\n",
    "    for index, row in dataframe.iterrows():\n",
    "        insert_sql = f\"INSERT INTO {tablename} ({columns}) VALUES \"\n",
    "        # Het uitvoeren van de SQL-opdracht met de waarden uit de huidige rij van het DataFrame\n",
    "        insert_sql += str(tuple(row.values))\n",
    "        # cursor.execute(insert_sql)\n",
    "        print(insert_sql)\n"
   ]
  },
  {
   "cell_type": "markdown",
   "metadata": {},
   "source": [
    "Nu gaan we eindelijk de data transformeren en in de database stoppen. Eerst gaan we producten, staff, satisfaction, course, sales_forcast, retailer_contact, retailer, Orders, returned_season, returned_item en Order_details importeren. Dit zijn de tabellen die we hebben gemaakt in de database."
   ]
  },
  {
   "cell_type": "markdown",
   "metadata": {},
   "source": [
    "## Transforming the data\n",
    "\n",
    "### Producten"
   ]
  },
  {
   "cell_type": "code",
   "execution_count": 14,
   "metadata": {},
   "outputs": [
    {
     "name": "stdout",
     "output_type": "stream",
     "text": [
      "Table has 10 columns\n",
      "CREATE TABLE PRODUCT (PRODUCT_id NVARCHAR(255) NOT NULL PRIMARY KEY, PRODUCT_PRODUCTION_COST_money DECIMAL(19,4), LANGUAGE_name NVARCHAR(255), PRODUCT_LINE_name NVARCHAR(255), PRODUCT_description VARCHAR(MAX), PRODUCT_name NVARCHAR(255), PRODUCT_LINE_id NVARCHAR(255), PRODUCT_image NVARCHAR(255), PRODUCT_INTRODUCTION_DATE_date NVARCHAR(255), PRODUCT_MARGIN_percentage DECIMAL(12,12))\n",
      "Table already exists in database\n",
      "INSERT INTO PRODUCT (PRODUCT_PRODUCTION_COST_money, PRODUCT_id, LANGUAGE_name, PRODUCT_LINE_name, PRODUCT_description, PRODUCT_name, PRODUCT_LINE_id, PRODUCT_image, PRODUCT_INTRODUCTION_DATE_date, PRODUCT_MARGIN_percentage) VALUES ('4', '1', 'EN', 'Camping Equipment', 'Lightweight, collapsible bag to carry liquids easily.  Wide mouth for easy filling.  Holds 10 liters.', 'TrailChef Water Bag', '1', 'P01CE1CG1.jpg', '15-2-2011', '.33')\n",
      "INSERT INTO PRODUCT (PRODUCT_PRODUCTION_COST_money, PRODUCT_id, LANGUAGE_name, PRODUCT_LINE_name, PRODUCT_description, PRODUCT_name, PRODUCT_LINE_id, PRODUCT_image, PRODUCT_INTRODUCTION_DATE_date, PRODUCT_MARGIN_percentage) VALUES ('10', '10', 'EN', 'Camping Equipment', 'Spoon, fork and knife set made of a light yet strong metal alloy.  Carrying pouch included.', 'TrailChef Utensils', '1', 'P10CE1CG1.jpg', '15-2-2011', '.4')\n",
      "INSERT INTO PRODUCT (PRODUCT_PRODUCTION_COST_money, PRODUCT_id, LANGUAGE_name, PRODUCT_LINE_name, PRODUCT_description, PRODUCT_name, PRODUCT_LINE_id, PRODUCT_image, PRODUCT_INTRODUCTION_DATE_date, PRODUCT_MARGIN_percentage) VALUES ('3', '100', 'EN', 'Outdoor Protection', 'The Insect Bite Relief helps the itching and swelling caused by most insect bites.', 'Insect Bite Relief', '4', 'P100OP4FA17.jpg', '15-2-2011', '.5')\n",
      "INSERT INTO PRODUCT (PRODUCT_PRODUCTION_COST_money, PRODUCT_id, LANGUAGE_name, PRODUCT_LINE_name, PRODUCT_description, PRODUCT_name, PRODUCT_LINE_id, PRODUCT_image, PRODUCT_INTRODUCTION_DATE_date, PRODUCT_MARGIN_percentage) VALUES ('305.54', '101', 'EN', 'Golf Equipment', 'Iron is 17-4 stainless steel.  Shafts are graphite with a frequency matched throughout the set. Includes 3 iron to Pitching Wedge.', 'Hailstorm Steel Irons', '5', 'P101GE5IR18.jpg', '15-12-2019', '.43')\n",
      "INSERT INTO PRODUCT (PRODUCT_PRODUCTION_COST_money, PRODUCT_id, LANGUAGE_name, PRODUCT_LINE_name, PRODUCT_description, PRODUCT_name, PRODUCT_LINE_id, PRODUCT_image, PRODUCT_INTRODUCTION_DATE_date, PRODUCT_MARGIN_percentage) VALUES ('380.95', '102', 'EN', 'Golf Equipment', 'Made entirely of pure titanium. The ultimate in golf club technology. Lightweight graphite shaft and light overall weight. Includes 3 iron to Pitching Wedge.', 'Hailstorm Titanium Irons', '5', 'P102GE5IR18.jpg', '10-12-2019', '.51')\n",
      "INSERT INTO PRODUCT (PRODUCT_PRODUCTION_COST_money, PRODUCT_id, LANGUAGE_name, PRODUCT_LINE_name, PRODUCT_description, PRODUCT_name, PRODUCT_LINE_id, PRODUCT_image, PRODUCT_INTRODUCTION_DATE_date, PRODUCT_MARGIN_percentage) VALUES ('277.76', '103', 'EN', 'Golf Equipment', 'Iron is 17-4 stainless steel.  Shafts are graphite with a frequency matched throughout the set. Includes 3 iron to Pitching Wedge.', 'Lady Hailstorm Steel Irons', '5', 'P101GE5IR18.jpg', '10-12-2019', '.43')\n",
      "INSERT INTO PRODUCT (PRODUCT_PRODUCTION_COST_money, PRODUCT_id, LANGUAGE_name, PRODUCT_LINE_name, PRODUCT_description, PRODUCT_name, PRODUCT_LINE_id, PRODUCT_image, PRODUCT_INTRODUCTION_DATE_date, PRODUCT_MARGIN_percentage) VALUES ('333.32', '104', 'EN', 'Golf Equipment', 'Made entirely of pure titanium. A wider sole and loft system to help you get the ball airborne with less effort. Includes 3 iron to Pitching Wedge.', 'Lady Hailstorm Titanium Irons', '5', 'P102GE5IR18.jpg', '18-12-2019', '.51')\n",
      "INSERT INTO PRODUCT (PRODUCT_PRODUCTION_COST_money, PRODUCT_id, LANGUAGE_name, PRODUCT_LINE_name, PRODUCT_description, PRODUCT_name, PRODUCT_LINE_id, PRODUCT_image, PRODUCT_INTRODUCTION_DATE_date, PRODUCT_MARGIN_percentage) VALUES ('555.9', '105', 'EN', 'Golf Equipment', 'Crafted of 6-4 titanium which is 40% lighter and 20% stronger than 17-4 steel.  Includes 3 Wood, 5 Wood and 12 degree driver.', 'Hailstorm Titanium Woods Set', '5', 'P105GE5WD19.jpg', '27-12-2019', '.55')\n",
      "INSERT INTO PRODUCT (PRODUCT_PRODUCTION_COST_money, PRODUCT_id, LANGUAGE_name, PRODUCT_LINE_name, PRODUCT_description, PRODUCT_name, PRODUCT_LINE_id, PRODUCT_image, PRODUCT_INTRODUCTION_DATE_date, PRODUCT_MARGIN_percentage) VALUES ('536.09', '106', 'EN', 'Golf Equipment', 'These steel woods are manufactured to exact tolerances to ensure maximum transfer of energy between the club head and the golf ball. Includes 3 Wood, 5 Wood and 12 degree driver.', 'Hailstorm Steel Woods Set', '5', 'P106GE5WD19.jpg', '5-12-2019', '.43')\n",
      "INSERT INTO PRODUCT (PRODUCT_PRODUCTION_COST_money, PRODUCT_id, LANGUAGE_name, PRODUCT_LINE_name, PRODUCT_description, PRODUCT_name, PRODUCT_LINE_id, PRODUCT_image, PRODUCT_INTRODUCTION_DATE_date, PRODUCT_MARGIN_percentage) VALUES ('509.07', '107', 'EN', 'Golf Equipment', 'Crafted of 6-4 titanium which is 40% lighter and 20% stronger than 17-4 steel. Includes 3 Wood, 5 Wood and 12 degree driver.', 'Lady Hailstorm Titanium Woods Set', '5', 'P105GE5WD19.jpg', '13-1-2020', '.55')\n",
      "INSERT INTO PRODUCT (PRODUCT_PRODUCTION_COST_money, PRODUCT_id, LANGUAGE_name, PRODUCT_LINE_name, PRODUCT_description, PRODUCT_name, PRODUCT_LINE_id, PRODUCT_image, PRODUCT_INTRODUCTION_DATE_date, PRODUCT_MARGIN_percentage) VALUES ('472.22', '108', 'EN', 'Golf Equipment', 'These steel woods are manufactured to exact tolerances to ensure maximum transfer of energy between the club head and the golf ball. Includes 3 Wood, 5 Wood and 12 degree driver.', 'Lady Hailstorm Steel Woods Set', '5', 'P106GE5WD19.jpg', '27-12-2019', '.43')\n",
      "INSERT INTO PRODUCT (PRODUCT_PRODUCTION_COST_money, PRODUCT_id, LANGUAGE_name, PRODUCT_LINE_name, PRODUCT_description, PRODUCT_name, PRODUCT_LINE_id, PRODUCT_image, PRODUCT_INTRODUCTION_DATE_date, PRODUCT_MARGIN_percentage) VALUES ('35', '109', 'EN', 'Golf Equipment', 'High quality putter is cast  from a soft yellow brass alloy to give the putter its uniquely soft feel at impact.', 'Course Pro Putter', '5', 'P109GE5PT20.jpg', '10-12-2019', '.43')\n",
      "INSERT INTO PRODUCT (PRODUCT_PRODUCTION_COST_money, PRODUCT_id, LANGUAGE_name, PRODUCT_LINE_name, PRODUCT_description, PRODUCT_name, PRODUCT_LINE_id, PRODUCT_image, PRODUCT_INTRODUCTION_DATE_date, PRODUCT_MARGIN_percentage) VALUES ('250', '11', 'EN', 'Camping Equipment', 'A perfect tent for biking and hiking trips, compact and very light.  Features three shock cord aluminum poles, and three large mesh windows.  Packed size: 15 x 40 cm. Weight: 0.5 kg.', 'Star Lite', '1', 'P11CE1TN2.jpg', '15-2-2011', '.28')\n",
      "INSERT INTO PRODUCT (PRODUCT_PRODUCTION_COST_money, PRODUCT_id, LANGUAGE_name, PRODUCT_LINE_name, PRODUCT_description, PRODUCT_name, PRODUCT_LINE_id, PRODUCT_image, PRODUCT_INTRODUCTION_DATE_date, PRODUCT_MARGIN_percentage) VALUES ('60', '110', 'EN', 'Golf Equipment', 'This premium putter has copper mixed with lightweight aluminum for a smooth touch.', 'Blue Steel Putter', '5', 'P110GE5PT20.jpg', '10-12-2019', '.5')\n",
      "INSERT INTO PRODUCT (PRODUCT_PRODUCTION_COST_money, PRODUCT_id, LANGUAGE_name, PRODUCT_LINE_name, PRODUCT_description, PRODUCT_name, PRODUCT_LINE_id, PRODUCT_image, PRODUCT_INTRODUCTION_DATE_date, PRODUCT_MARGIN_percentage) VALUES ('81.8', '111', 'EN', 'Golf Equipment', 'Putter head is composed from a single piece of the softest carbon steel for optimum feel.', 'Blue Steel Max Putter', '5', 'P111GE5PT20.jpg', '15-12-2019', '.55')\n",
      "INSERT INTO PRODUCT (PRODUCT_PRODUCTION_COST_money, PRODUCT_id, LANGUAGE_name, PRODUCT_LINE_name, PRODUCT_description, PRODUCT_name, PRODUCT_LINE_id, PRODUCT_image, PRODUCT_INTRODUCTION_DATE_date, PRODUCT_MARGIN_percentage) VALUES ('6', '112', 'EN', 'Golf Equipment', 'Set includes two premium golf ball and an assortment of wooden golf tees.', 'Course Pro Golf and Tee Set', '5', 'P112GE5GA21.jpg', '10-1-2020', '.33')\n",
      "INSERT INTO PRODUCT (PRODUCT_PRODUCTION_COST_money, PRODUCT_id, LANGUAGE_name, PRODUCT_LINE_name, PRODUCT_description, PRODUCT_name, PRODUCT_LINE_id, PRODUCT_image, PRODUCT_INTRODUCTION_DATE_date, PRODUCT_MARGIN_percentage) VALUES ('6', '113', 'EN', 'Golf Equipment', 'Large red and white patterned golf umbrella.', 'Course Pro Umbrella', '5', 'P113GE5GA21.jpg', '15-1-2020', '.5')\n",
      "INSERT INTO PRODUCT (PRODUCT_PRODUCTION_COST_money, PRODUCT_id, LANGUAGE_name, PRODUCT_LINE_name, PRODUCT_description, PRODUCT_name, PRODUCT_LINE_id, PRODUCT_image, PRODUCT_INTRODUCTION_DATE_date, PRODUCT_MARGIN_percentage) VALUES ('80', '114', 'EN', 'Golf Equipment', 'High quality golf bag that includes carrying strap and large front pocket.', 'Course Pro Golf Bag', '5', 'P114GE5GA21.jpg', '15-12-2019', '.6')\n",
      "INSERT INTO PRODUCT (PRODUCT_PRODUCTION_COST_money, PRODUCT_id, LANGUAGE_name, PRODUCT_LINE_name, PRODUCT_description, PRODUCT_name, PRODUCT_LINE_id, PRODUCT_image, PRODUCT_INTRODUCTION_DATE_date, PRODUCT_MARGIN_percentage) VALUES ('5', '115', 'EN', 'Golf Equipment', 'Durable nylon constructed gloves with stitched leather palm.', 'Course Pro Gloves', '5', 'P115GE5GA21.jpg', '27-12-2019', '.5')\n",
      "INSERT INTO PRODUCT (PRODUCT_PRODUCTION_COST_money, PRODUCT_id, LANGUAGE_name, PRODUCT_LINE_name, PRODUCT_description, PRODUCT_name, PRODUCT_LINE_id, PRODUCT_image, PRODUCT_INTRODUCTION_DATE_date, PRODUCT_MARGIN_percentage) VALUES ('473.07', '12', 'EN', 'Camping Equipment', 'Four pole geodesic dome mountain tent that comfortably fits two to three people. 10 mm aluminum poles, mesh pole sleeves and taped seams.  Packed size: 22 x 63 cm. Weight: 4.8 kg.', 'Star Dome', '1', 'P12CE1TN2.jpg', '5-3-2013', '.23')\n",
      "INSERT INTO PRODUCT (PRODUCT_PRODUCTION_COST_money, PRODUCT_id, LANGUAGE_name, PRODUCT_LINE_name, PRODUCT_description, PRODUCT_name, PRODUCT_LINE_id, PRODUCT_image, PRODUCT_INTRODUCTION_DATE_date, PRODUCT_MARGIN_percentage) VALUES ('392.57', '13', 'EN', 'Camping Equipment', \"The Star Gazer 2 is the Great Outdoor's most versatile tent.  It is a large two-person tent that is both durable and light weight.  Packed size: 18 x 70 cm. Weight: 2.6 kg.\", 'Star Gazer 2', '1', 'P13CE1TN2.jpg', '15-2-2011', '.25')\n",
      "INSERT INTO PRODUCT (PRODUCT_PRODUCTION_COST_money, PRODUCT_id, LANGUAGE_name, PRODUCT_LINE_name, PRODUCT_description, PRODUCT_name, PRODUCT_LINE_id, PRODUCT_image, PRODUCT_INTRODUCTION_DATE_date, PRODUCT_MARGIN_percentage) VALUES ('476', '14', 'EN', 'Camping Equipment', 'The Star Gazer 3 features a water proof fly, mesh window and two doors for good ventilation.  Packed size: 20 x 70 cm. Weight: 5.3 kg.', 'Star Gazer 3', '1', 'P14CE1TN2.jpg', '5-3-2013', '.2')\n",
      "INSERT INTO PRODUCT (PRODUCT_PRODUCTION_COST_money, PRODUCT_id, LANGUAGE_name, PRODUCT_LINE_name, PRODUCT_description, PRODUCT_name, PRODUCT_LINE_id, PRODUCT_image, PRODUCT_INTRODUCTION_DATE_date, PRODUCT_MARGIN_percentage) VALUES ('490', '15', 'EN', 'Camping Equipment', 'Massive cabin tent has ample room for six people. Mesh door and vent, T-style door.  Four side windows with storm flaps and three carry bags for tent and poles.', 'Star Gazer 6', '1', 'P15CE1TN2.jpg', '5-3-2013', '.33')\n",
      "INSERT INTO PRODUCT (PRODUCT_PRODUCTION_COST_money, PRODUCT_id, LANGUAGE_name, PRODUCT_LINE_name, PRODUCT_description, PRODUCT_name, PRODUCT_LINE_id, PRODUCT_image, PRODUCT_INTRODUCTION_DATE_date, PRODUCT_MARGIN_percentage) VALUES ('1', '16', 'EN', 'Camping Equipment', 'A single tent peg made of heavy-duty plated steel. Long enough even for hard, rocky ground. Length: 25 cm', 'Star Peg', '1', 'P16CE1TN2.jpg', '5-3-2013', '.5')\n",
      "INSERT INTO PRODUCT (PRODUCT_PRODUCTION_COST_money, PRODUCT_id, LANGUAGE_name, PRODUCT_LINE_name, PRODUCT_description, PRODUCT_name, PRODUCT_LINE_id, PRODUCT_image, PRODUCT_INTRODUCTION_DATE_date, PRODUCT_MARGIN_percentage) VALUES ('60', '17', 'EN', 'Camping Equipment', 'The Hibernator Lite is the perfect summer sleeping bag.  Light weight and comfortable down to 10░C.  The rectangular shape allows for easy pairing.  Weight with stuff sack: 1.0 kg.', 'Hibernator Lite', '1', 'P17CE1SB3.jpg', '5-3-2013', '.28')\n",
      "INSERT INTO PRODUCT (PRODUCT_PRODUCTION_COST_money, PRODUCT_id, LANGUAGE_name, PRODUCT_LINE_name, PRODUCT_description, PRODUCT_name, PRODUCT_LINE_id, PRODUCT_image, PRODUCT_INTRODUCTION_DATE_date, PRODUCT_MARGIN_percentage) VALUES ('86', '18', 'EN', 'Camping Equipment', 'The Hibernator is a three-season sleeping bag. The rectangular shape allows for easy pairing. Nylon shell material.  8 cm loft.  Comfortable down to 0░C.  One size fits up to 195 cm.', 'Hibernator', '1', 'P17CE1SB3.jpg', '15-2-2011', '.33')\n",
      "INSERT INTO PRODUCT (PRODUCT_PRODUCTION_COST_money, PRODUCT_id, LANGUAGE_name, PRODUCT_LINE_name, PRODUCT_description, PRODUCT_name, PRODUCT_LINE_id, PRODUCT_image, PRODUCT_INTRODUCTION_DATE_date, PRODUCT_MARGIN_percentage) VALUES ('150', '19', 'EN', 'Camping Equipment', 'The Hibernator Extreme has all the features you need for four-season comfort.  Comfortable from -18░ to 9░C. Silk comfort lining, nylon shell. Fits users to 195 cm, stuff sack included.', 'Hibernator Extreme', '1', 'P19CE1SB3.jpg', '26-10-2016', '.37')\n",
      "INSERT INTO PRODUCT (PRODUCT_PRODUCTION_COST_money, PRODUCT_id, LANGUAGE_name, PRODUCT_LINE_name, PRODUCT_description, PRODUCT_name, PRODUCT_LINE_id, PRODUCT_image, PRODUCT_INTRODUCTION_DATE_date, PRODUCT_MARGIN_percentage) VALUES ('9.22', '2', 'EN', 'Camping Equipment', 'Aluminum canteen. Rugged fleece-lined cover with belt clips, removable shoulder sling and small pocket for water purification tablets bottle. Holds 2 liters', 'TrailChef Canteen', '1', 'P02CE1CG1.jpg', '15-2-2011', '.23')\n",
      "INSERT INTO PRODUCT (PRODUCT_PRODUCTION_COST_money, PRODUCT_id, LANGUAGE_name, PRODUCT_LINE_name, PRODUCT_description, PRODUCT_name, PRODUCT_LINE_id, PRODUCT_image, PRODUCT_INTRODUCTION_DATE_date, PRODUCT_MARGIN_percentage) VALUES ('78.55', '20', 'EN', 'Camping Equipment', 'Mattress is made of extra-thick foam. Mesh stuff sack included for easy carrying and storage. Repair kit included.', 'Hibernator Self - Inflating Mat', '1', 'P20CE1SB3.jpg', '5-3-2013', '.28')\n",
      "INSERT INTO PRODUCT (PRODUCT_PRODUCTION_COST_money, PRODUCT_id, LANGUAGE_name, PRODUCT_LINE_name, PRODUCT_description, PRODUCT_name, PRODUCT_LINE_id, PRODUCT_image, PRODUCT_INTRODUCTION_DATE_date, PRODUCT_MARGIN_percentage) VALUES ('29.17', '21', 'EN', 'Camping Equipment', 'Warms up quickly for snow camping comfort. The Hibernator Pad will resist cracking in temperatures as low as -30░C.', 'Hibernator Pad', '1', 'P21CE1SB3.jpg', '15-2-2011', '.17')\n",
      "INSERT INTO PRODUCT (PRODUCT_PRODUCTION_COST_money, PRODUCT_id, LANGUAGE_name, PRODUCT_LINE_name, PRODUCT_description, PRODUCT_name, PRODUCT_LINE_id, PRODUCT_image, PRODUCT_INTRODUCTION_DATE_date, PRODUCT_MARGIN_percentage) VALUES ('10', '22', 'EN', 'Camping Equipment', 'Camp pillow is filled with soft, luxurious fibers for maximum compactness and resiliency. Covered with soft cotton on one side and soft flannel on the other.', 'Hibernator Pillow', '1', 'P22CE1SB3.jpg', '15-2-2011', '.33')\n",
      "INSERT INTO PRODUCT (PRODUCT_PRODUCTION_COST_money, PRODUCT_id, LANGUAGE_name, PRODUCT_LINE_name, PRODUCT_description, PRODUCT_name, PRODUCT_LINE_id, PRODUCT_image, PRODUCT_INTRODUCTION_DATE_date, PRODUCT_MARGIN_percentage) VALUES ('65.33', '23', 'EN', 'Camping Equipment', 'Aluminum frame camp cot that is lightweight and durable.  Size: 100 x 225 x 50 cm.  Weight: 7 kg.', 'Hibernator Camp Cot', '1', 'P23CE1SB3.jpg', '5-3-2013', '.33')\n",
      "INSERT INTO PRODUCT (PRODUCT_PRODUCTION_COST_money, PRODUCT_id, LANGUAGE_name, PRODUCT_LINE_name, PRODUCT_description, PRODUCT_name, PRODUCT_LINE_id, PRODUCT_image, PRODUCT_INTRODUCTION_DATE_date, PRODUCT_MARGIN_percentage) VALUES ('62.5', '24', 'EN', 'Camping Equipment', 'This pack is perfect for day trips and short hikes. Also great for students.  Separate front compartment, multi-layered interior organizer, 2 cm waist belt, 32,000 cu. cm.', 'Canyon Mule Climber Backpack', '1', 'P24CE1PK4.jpg', '5-3-2013', '.17')\n",
      "INSERT INTO PRODUCT (PRODUCT_PRODUCTION_COST_money, PRODUCT_id, LANGUAGE_name, PRODUCT_LINE_name, PRODUCT_description, PRODUCT_name, PRODUCT_LINE_id, PRODUCT_image, PRODUCT_INTRODUCTION_DATE_date, PRODUCT_MARGIN_percentage) VALUES ('166.66', '25', 'EN', 'Camping Equipment', 'A weekend getaway requires this pack.  It features a large front compression pocket, harness and waist belt, foam molded back panel, vinyl covered gear loops.  50,000 cu. cm.', 'Canyon Mule Weekender Backpack', '1', 'P25CE1PK4.jpg', '15-2-2011', '.33')\n",
      "INSERT INTO PRODUCT (PRODUCT_PRODUCTION_COST_money, PRODUCT_id, LANGUAGE_name, PRODUCT_LINE_name, PRODUCT_description, PRODUCT_name, PRODUCT_LINE_id, PRODUCT_image, PRODUCT_INTRODUCTION_DATE_date, PRODUCT_MARGIN_percentage) VALUES ('213.33', '26', 'EN', 'Camping Equipment', 'Set of three packs: handlebar pack, front pack and rear pack.  Designed to fit most mountain bikes.  Includes mounting hardware.  Total volume: 66,000 cu. cm.', 'Canyon Mule Journey Backpack', '1', 'P26CE1PK4.jpg', '15-2-2011', '.33')\n",
      "INSERT INTO PRODUCT (PRODUCT_PRODUCTION_COST_money, PRODUCT_id, LANGUAGE_name, PRODUCT_LINE_name, PRODUCT_description, PRODUCT_name, PRODUCT_LINE_id, PRODUCT_image, PRODUCT_INTRODUCTION_DATE_date, PRODUCT_MARGIN_percentage) VALUES ('238.88', '27', 'EN', 'Camping Equipment', 'Perfect for long back country trips, this pack features an expandable front pocket, includes a large sleeping bag compartment, padded shoulder harness, back and waist belt. 90,000 cu. cm.', 'Canyon Mule Extreme Backpack', '1', 'P27CE1PK4.jpg', '5-3-2013', '.43')\n",
      "INSERT INTO PRODUCT (PRODUCT_PRODUCTION_COST_money, PRODUCT_id, LANGUAGE_name, PRODUCT_LINE_name, PRODUCT_description, PRODUCT_name, PRODUCT_LINE_id, PRODUCT_image, PRODUCT_INTRODUCTION_DATE_date, PRODUCT_MARGIN_percentage) VALUES ('24', '28', 'EN', 'Camping Equipment', 'A durable plastic cooler with hinged top, perfect for storing small items. Size:100 x 50 x 50 cm.', 'Canyon Mule Cooler', '1', 'P28CE1PK4.jpg', '15-2-2011', '.2')\n",
      "INSERT INTO PRODUCT (PRODUCT_PRODUCTION_COST_money, PRODUCT_id, LANGUAGE_name, PRODUCT_LINE_name, PRODUCT_description, PRODUCT_name, PRODUCT_LINE_id, PRODUCT_image, PRODUCT_INTRODUCTION_DATE_date, PRODUCT_MARGIN_percentage) VALUES ('41.18', '29', 'EN', 'Camping Equipment', 'This pack has a large capacity, perfect for carrying all your camping gear.  Solid metal zipper and leather bottom.', 'Canyon Mule Carryall', '1', 'P29CE1PK4.jpg', '5-3-2013', '.4')\n",
      "INSERT INTO PRODUCT (PRODUCT_PRODUCTION_COST_money, PRODUCT_id, LANGUAGE_name, PRODUCT_LINE_name, PRODUCT_description, PRODUCT_name, PRODUCT_LINE_id, PRODUCT_image, PRODUCT_INTRODUCTION_DATE_date, PRODUCT_MARGIN_percentage) VALUES ('15.93', '3', 'EN', 'Camping Equipment', 'Zippered nylon pouch contains cutlery for two, can opener, wire whisk, scrubber sponge, 2  60 ml squirt bottles, pancake turner and salt and pepper shaker.  Measures 10 x 22 x 5 cm.', 'TrailChef Kitchen Kit', '1', 'P03CE1CG1.jpg', '15-2-2011', '.28')\n",
      "INSERT INTO PRODUCT (PRODUCT_PRODUCTION_COST_money, PRODUCT_id, LANGUAGE_name, PRODUCT_LINE_name, PRODUCT_description, PRODUCT_name, PRODUCT_LINE_id, PRODUCT_image, PRODUCT_INTRODUCTION_DATE_date, PRODUCT_MARGIN_percentage) VALUES ('6.75', '30', 'EN', 'Camping Equipment', 'Lightweight flashlight made from aircraft aluminum. Focusable beam, tail cap push button allows for single-handed operation. Uses two AA batteries, included.', 'Firefly Lite', '1', 'P30CE1LT5.jpg', '5-3-2013', '.5')\n",
      "INSERT INTO PRODUCT (PRODUCT_PRODUCTION_COST_money, PRODUCT_id, LANGUAGE_name, PRODUCT_LINE_name, PRODUCT_description, PRODUCT_name, PRODUCT_LINE_id, PRODUCT_image, PRODUCT_INTRODUCTION_DATE_date, PRODUCT_MARGIN_percentage) VALUES ('7.5', '31', 'EN', 'Camping Equipment', 'Clip-on flashlight for map or book reading. Also comes with flexible fiber optic extension. Lightweight, uses only one AA battery, included.', 'Firefly Mapreader', '1', 'P31CE1LT5.jpg', '5-3-2013', '.5')\n",
      "INSERT INTO PRODUCT (PRODUCT_PRODUCTION_COST_money, PRODUCT_id, LANGUAGE_name, PRODUCT_LINE_name, PRODUCT_description, PRODUCT_name, PRODUCT_LINE_id, PRODUCT_image, PRODUCT_INTRODUCTION_DATE_date, PRODUCT_MARGIN_percentage) VALUES ('16.67', '32', 'EN', 'Camping Equipment', 'A high quality aluminum flashlight with Krypton bulb.  Uses two D batteries, included.', 'Firefly 2', '1', 'P32CE1LT5.jpg', '15-2-2011', '.33')\n",
      "INSERT INTO PRODUCT (PRODUCT_PRODUCTION_COST_money, PRODUCT_id, LANGUAGE_name, PRODUCT_LINE_name, PRODUCT_description, PRODUCT_name, PRODUCT_LINE_id, PRODUCT_image, PRODUCT_INTRODUCTION_DATE_date, PRODUCT_MARGIN_percentage) VALUES ('18', '33', 'EN', 'Camping Equipment', 'Made of solid plastic construction, adjustable beam (flood to spot), Krypton bulb.  Uses four D batteries, included.', 'Firefly 4', '1', 'P33CE1LT5.jpg', '5-3-2013', '.33')\n",
      "INSERT INTO PRODUCT (PRODUCT_PRODUCTION_COST_money, PRODUCT_id, LANGUAGE_name, PRODUCT_LINE_name, PRODUCT_description, PRODUCT_name, PRODUCT_LINE_id, PRODUCT_image, PRODUCT_INTRODUCTION_DATE_date, PRODUCT_MARGIN_percentage) VALUES ('28.12', '34', 'EN', 'Camping Equipment', 'The Firefly Extreme is under 15 cm long yet produces 7,000 candlepower using two lithium batteries and a Xenon bulb. Shock and water resistant. Weight: 135 g.', 'Firefly Extreme', '1', 'P34CE1LT5.jpg', '26-10-2016', '.37')\n",
      "INSERT INTO PRODUCT (PRODUCT_PRODUCTION_COST_money, PRODUCT_id, LANGUAGE_name, PRODUCT_LINE_name, PRODUCT_description, PRODUCT_name, PRODUCT_LINE_id, PRODUCT_image, PRODUCT_INTRODUCTION_DATE_date, PRODUCT_MARGIN_percentage) VALUES ('17.78', '35', 'EN', 'Camping Equipment', 'This light can be used as either a flashlight or as a lamp. Uses two C batteries, included.  Burn time 7-8 hours. Water-resistant.', 'Firefly Multi-light', '1', 'P35CE1LT5.jpg', '26-10-2016', '.25')\n",
      "INSERT INTO PRODUCT (PRODUCT_PRODUCTION_COST_money, PRODUCT_id, LANGUAGE_name, PRODUCT_LINE_name, PRODUCT_description, PRODUCT_name, PRODUCT_LINE_id, PRODUCT_image, PRODUCT_INTRODUCTION_DATE_date, PRODUCT_MARGIN_percentage) VALUES ('18.05', '36', 'EN', 'Camping Equipment', 'Light output approximates a 100 W bulb. Single mantle regulated. Porcelain dome. Uses 0.5 liter  propane cylinder (not included).', 'EverGlow Single', '1', 'P36CE1LT5.jpg', '15-2-2011', '.4')\n",
      "INSERT INTO PRODUCT (PRODUCT_PRODUCTION_COST_money, PRODUCT_id, LANGUAGE_name, PRODUCT_LINE_name, PRODUCT_description, PRODUCT_name, PRODUCT_LINE_id, PRODUCT_image, PRODUCT_INTRODUCTION_DATE_date, PRODUCT_MARGIN_percentage) VALUES ('28.75', '37', 'EN', 'Camping Equipment', 'Light output approximates a 175 W bulb. Double mantle regulated. Porcelain dome. Uses 0.5 liter propane cylinder (not included).', 'EverGlow Double', '1', 'P37CE1LT5.jpg', '5-3-2013', '.37')\n",
      "INSERT INTO PRODUCT (PRODUCT_PRODUCTION_COST_money, PRODUCT_id, LANGUAGE_name, PRODUCT_LINE_name, PRODUCT_description, PRODUCT_name, PRODUCT_LINE_id, PRODUCT_image, PRODUCT_INTRODUCTION_DATE_date, PRODUCT_MARGIN_percentage) VALUES ('20', '38', 'EN', 'Camping Equipment', \"One of the most dependable sources of light in an emergency, this lantern is always ready and doesn't need to be recharged. Cotton wick. Height: 30 cm.\", 'EverGlow Kerosene', '1', 'P38CE1LT5.jpg', '5-3-2013', '.33')\n",
      "INSERT INTO PRODUCT (PRODUCT_PRODUCTION_COST_money, PRODUCT_id, LANGUAGE_name, PRODUCT_LINE_name, PRODUCT_description, PRODUCT_name, PRODUCT_LINE_id, PRODUCT_image, PRODUCT_INTRODUCTION_DATE_date, PRODUCT_MARGIN_percentage) VALUES ('40.63', '39', 'EN', 'Camping Equipment', 'Adjustable brightness control with auto ignition. Safely stores in its own protective case.  Approximate burn time 5 hours on one 0.25 liter butane canister, included.', 'EverGlow Butane', '1', 'P39CE1LT5.jpg', '5-3-2013', '.37')\n",
      "INSERT INTO PRODUCT (PRODUCT_PRODUCTION_COST_money, PRODUCT_id, LANGUAGE_name, PRODUCT_LINE_name, PRODUCT_description, PRODUCT_name, PRODUCT_LINE_id, PRODUCT_image, PRODUCT_INTRODUCTION_DATE_date, PRODUCT_MARGIN_percentage) VALUES ('5', '4', 'EN', 'Camping Equipment', 'Tin cup. Holds 0.4 liters. Weight: 60 g', 'TrailChef Cup', '1', 'P04CE1CG1.jpg', '15-2-2011', '.28')\n",
      "INSERT INTO PRODUCT (PRODUCT_PRODUCTION_COST_money, PRODUCT_id, LANGUAGE_name, PRODUCT_LINE_name, PRODUCT_description, PRODUCT_name, PRODUCT_LINE_id, PRODUCT_image, PRODUCT_INTRODUCTION_DATE_date, PRODUCT_MARGIN_percentage) VALUES ('17.97', '40', 'EN', 'Camping Equipment', 'Perfect for in your tent, this lamp comes with a 6V battery.  Complete with shade and hanging hook.', 'EverGlow Lamp', '1', 'P40CE1LT5.jpg', '15-2-2011', '.28')\n",
      "INSERT INTO PRODUCT (PRODUCT_PRODUCTION_COST_money, PRODUCT_id, LANGUAGE_name, PRODUCT_LINE_name, PRODUCT_description, PRODUCT_name, PRODUCT_LINE_id, PRODUCT_image, PRODUCT_INTRODUCTION_DATE_date, PRODUCT_MARGIN_percentage) VALUES ('24.62', '41', 'EN', 'Camping Equipment', 'Simple to use, just requires a candle to be inserted and lit.  Windproof, lasts for hours.', 'Flicker Lantern', '1', 'P41CE1LT5.jpg', '10-1-2021', '.23')\n",
      "INSERT INTO PRODUCT (PRODUCT_PRODUCTION_COST_money, PRODUCT_id, LANGUAGE_name, PRODUCT_LINE_name, PRODUCT_description, PRODUCT_name, PRODUCT_LINE_id, PRODUCT_image, PRODUCT_INTRODUCTION_DATE_date, PRODUCT_MARGIN_percentage) VALUES ('106.66', '42', 'EN', 'Mountaineering Equipment', '11 mm diameter standard rope. Length: 50 m.  Weight: 78 g per meter. Impact Force: 7.2 kN. Static Elongation: 7.8%. Number of UIAA Falls: 16.', 'Husky Rope 50', '2', 'P42ME2RP6.jpg', '10-1-2021', '.33')\n",
      "INSERT INTO PRODUCT (PRODUCT_PRODUCTION_COST_money, PRODUCT_id, LANGUAGE_name, PRODUCT_LINE_name, PRODUCT_description, PRODUCT_name, PRODUCT_LINE_id, PRODUCT_image, PRODUCT_INTRODUCTION_DATE_date, PRODUCT_MARGIN_percentage) VALUES ('126.66', '43', 'EN', 'Mountaineering Equipment', '11 mm diameter standard rope. Length: 60 m.  Weight: 78 g per meter. Impact Force: 7.2 kN. Static Elongation: 7.8%. Number of UIAA Falls: 16.', 'Husky Rope 60', '2', 'P42ME2RP6.jpg', '10-1-2021', '.33')\n",
      "INSERT INTO PRODUCT (PRODUCT_PRODUCTION_COST_money, PRODUCT_id, LANGUAGE_name, PRODUCT_LINE_name, PRODUCT_description, PRODUCT_name, PRODUCT_LINE_id, PRODUCT_image, PRODUCT_INTRODUCTION_DATE_date, PRODUCT_MARGIN_percentage) VALUES ('231.11', '44', 'EN', 'Mountaineering Equipment', '11 mm diameter standard rope. Length: 100 m.  Weight: 78 g per meter. Impact Force: 7.2 kN. Static Elongation: 7.8%. Number of UIAA Falls: 16.', 'Husky Rope 100', '2', 'P44ME2RP6.jpg', '10-1-2021', '.33')\n",
      "INSERT INTO PRODUCT (PRODUCT_PRODUCTION_COST_money, PRODUCT_id, LANGUAGE_name, PRODUCT_LINE_name, PRODUCT_description, PRODUCT_name, PRODUCT_LINE_id, PRODUCT_image, PRODUCT_INTRODUCTION_DATE_date, PRODUCT_MARGIN_percentage) VALUES ('383.32', '45', 'EN', 'Mountaineering Equipment', '11 mm diameter standard rope. Length: 200 m.  Weight: 78 g per meter. Impact Force: 7.2 kN. Static Elongation: 7.8%. Number of UIAA Falls: 16.', 'Husky Rope 200', '2', 'P44ME2RP6.jpg', '10-1-2021', '.33')\n",
      "INSERT INTO PRODUCT (PRODUCT_PRODUCTION_COST_money, PRODUCT_id, LANGUAGE_name, PRODUCT_LINE_name, PRODUCT_description, PRODUCT_name, PRODUCT_LINE_id, PRODUCT_image, PRODUCT_INTRODUCTION_DATE_date, PRODUCT_MARGIN_percentage) VALUES ('52.86', '46', 'EN', 'Mountaineering Equipment', 'This UIAA approved helmet fits adults and kids, suitable for rock and alpine use.', 'Granite Climbing Helmet', '2', 'P46ME2SY7.jpg', '10-1-2021', '.28')\n",
      "INSERT INTO PRODUCT (PRODUCT_PRODUCTION_COST_money, PRODUCT_id, LANGUAGE_name, PRODUCT_LINE_name, PRODUCT_description, PRODUCT_name, PRODUCT_LINE_id, PRODUCT_image, PRODUCT_INTRODUCTION_DATE_date, PRODUCT_MARGIN_percentage) VALUES ('44.83', '47', 'EN', 'Mountaineering Equipment', 'One size fits all due to extensive waist belt adjustment and fully adjustable leg loops.', 'Husky Harness', '2', 'P47ME2SY7.jpg', '10-1-2021', '.31')\n",
      "INSERT INTO PRODUCT (PRODUCT_PRODUCTION_COST_money, PRODUCT_id, LANGUAGE_name, PRODUCT_LINE_name, PRODUCT_description, PRODUCT_name, PRODUCT_LINE_id, PRODUCT_image, PRODUCT_INTRODUCTION_DATE_date, PRODUCT_MARGIN_percentage) VALUES ('55', '48', 'EN', 'Mountaineering Equipment', 'One size fits all. Top of the range fully adjustable technical harness. Ultra high strength belay loop rated in excess of 30kN. Rear haul loop rated to 10kN.', 'Husky Harness Extreme', '2', 'P47ME2SY7.jpg', '10-1-2021', '.5')\n",
      "INSERT INTO PRODUCT (PRODUCT_PRODUCTION_COST_money, PRODUCT_id, LANGUAGE_name, PRODUCT_LINE_name, PRODUCT_description, PRODUCT_name, PRODUCT_LINE_id, PRODUCT_image, PRODUCT_INTRODUCTION_DATE_date, PRODUCT_MARGIN_percentage) VALUES ('16.5', '49', 'EN', 'Mountaineering Equipment', 'Day or night signal mirror with gridded sighting hole.  6mm laminated glass. Soft carrying case included. Size: 8 x 13 cm. Weight: 400 g.', 'Granite Signal Mirror', '2', 'P49ME2SY7.jpg', '10-1-2021', '.5')\n",
      "INSERT INTO PRODUCT (PRODUCT_PRODUCTION_COST_money, PRODUCT_id, LANGUAGE_name, PRODUCT_LINE_name, PRODUCT_description, PRODUCT_name, PRODUCT_LINE_id, PRODUCT_image, PRODUCT_INTRODUCTION_DATE_date, PRODUCT_MARGIN_percentage) VALUES ('34.97', '5', 'EN', 'Camping Equipment', 'All you will ever need on the trail.  Pot gripper and nylon carrying bag included.  1.5 and 2 liter pots with individual lids. Weight: 750 g.', 'TrailChef Cook Set', '1', 'P05CE1CG1.jpg', '15-2-2011', '.3')\n",
      "INSERT INTO PRODUCT (PRODUCT_PRODUCTION_COST_money, PRODUCT_id, LANGUAGE_name, PRODUCT_LINE_name, PRODUCT_description, PRODUCT_name, PRODUCT_LINE_id, PRODUCT_image, PRODUCT_INTRODUCTION_DATE_date, PRODUCT_MARGIN_percentage) VALUES ('2', '50', 'EN', 'Mountaineering Equipment', 'Made from 12 mm rod stock aluminum and a radius suitable for almost any rope size. Locks tight with almost any belay/rappel combination. Individually tested.', 'Granite Carabiner', '2', 'P50ME2CA8.jpg', '10-1-2021', '.5')\n",
      "INSERT INTO PRODUCT (PRODUCT_PRODUCTION_COST_money, PRODUCT_id, LANGUAGE_name, PRODUCT_LINE_name, PRODUCT_description, PRODUCT_name, PRODUCT_LINE_id, PRODUCT_image, PRODUCT_INTRODUCTION_DATE_date, PRODUCT_MARGIN_percentage) VALUES ('35', '51', 'EN', 'Mountaineering Equipment', 'The Granite Belay is an ingenious single rope belay device that uses carabiner movement to brake the rope.', 'Granite Belay', '2', 'P51ME2CA8.jpg', '10-1-2021', '.5')\n",
      "INSERT INTO PRODUCT (PRODUCT_PRODUCTION_COST_money, PRODUCT_id, LANGUAGE_name, PRODUCT_LINE_name, PRODUCT_description, PRODUCT_name, PRODUCT_LINE_id, PRODUCT_image, PRODUCT_INTRODUCTION_DATE_date, PRODUCT_MARGIN_percentage) VALUES ('19', '52', 'EN', 'Mountaineering Equipment', 'Light, simple and strong, a great all purpose pulley.', 'Granite Pulley', '2', 'P52ME2CA8.jpg', '10-1-2021', '.5')\n",
      "INSERT INTO PRODUCT (PRODUCT_PRODUCTION_COST_money, PRODUCT_id, LANGUAGE_name, PRODUCT_LINE_name, PRODUCT_description, PRODUCT_name, PRODUCT_LINE_id, PRODUCT_image, PRODUCT_INTRODUCTION_DATE_date, PRODUCT_MARGIN_percentage) VALUES ('28.55', '53', 'EN', 'Mountaineering Equipment', 'This climbing lamp is water-resistant. It comes with two bulbs, standard and halogen. Includes one 6V halogen bulb and one 6V standard bulb. Weight: 200g.', 'Firefly Climbing Lamp', '2', 'P53ME2CA8.jpg', '10-1-2021', '.28')\n",
      "INSERT INTO PRODUCT (PRODUCT_PRODUCTION_COST_money, PRODUCT_id, LANGUAGE_name, PRODUCT_LINE_name, PRODUCT_description, PRODUCT_name, PRODUCT_LINE_id, PRODUCT_image, PRODUCT_INTRODUCTION_DATE_date, PRODUCT_MARGIN_percentage) VALUES ('35.33', '54', 'EN', 'Mountaineering Equipment', 'Power charger for the Firefly Climbing Lamp. The charger cannot overcharge the Firefly battery, so you can leave it in the charger without worrying.', 'Firefly Charger', '2', 'P54ME2CA8.jpg', '10-1-2021', '.33')\n",
      "INSERT INTO PRODUCT (PRODUCT_PRODUCTION_COST_money, PRODUCT_id, LANGUAGE_name, PRODUCT_LINE_name, PRODUCT_description, PRODUCT_name, PRODUCT_LINE_id, PRODUCT_image, PRODUCT_INTRODUCTION_DATE_date, PRODUCT_MARGIN_percentage) VALUES ('4', '55', 'EN', 'Mountaineering Equipment', 'Rechargeable battery pack for the Firefly Climbing Lamp. Each charge gives 3 hours of light with a halogen bulb and 9 hours with standard bulb. Battery may be recharged up to 1,000 times.', 'Firefly Rechargeable Battery', '2', 'P55ME2CA8.jpg', '10-1-2021', '.5')\n",
      "INSERT INTO PRODUCT (PRODUCT_PRODUCTION_COST_money, PRODUCT_id, LANGUAGE_name, PRODUCT_LINE_name, PRODUCT_description, PRODUCT_name, PRODUCT_LINE_id, PRODUCT_image, PRODUCT_INTRODUCTION_DATE_date, PRODUCT_MARGIN_percentage) VALUES ('9', '56', 'EN', 'Mountaineering Equipment', 'Nylon web bag perfect for holding several sticks of chalk.', 'Granite Chalk Bag', '2', 'P56ME2CA8.jpg', '10-1-2021', '.5')\n",
      "INSERT INTO PRODUCT (PRODUCT_PRODUCTION_COST_money, PRODUCT_id, LANGUAGE_name, PRODUCT_LINE_name, PRODUCT_description, PRODUCT_name, PRODUCT_LINE_id, PRODUCT_image, PRODUCT_INTRODUCTION_DATE_date, PRODUCT_MARGIN_percentage) VALUES ('40', '57', 'EN', 'Mountaineering Equipment', 'A general purpose mountaineering axe for snow and glacier travel. Excellent mid-weight axe. Weight: 638 g', 'Granite Ice', '2', 'P57ME2TL9.jpg', '10-1-2021', '.5')\n",
      "INSERT INTO PRODUCT (PRODUCT_PRODUCTION_COST_money, PRODUCT_id, LANGUAGE_name, PRODUCT_LINE_name, PRODUCT_description, PRODUCT_name, PRODUCT_LINE_id, PRODUCT_image, PRODUCT_INTRODUCTION_DATE_date, PRODUCT_MARGIN_percentage) VALUES ('57.13', '58', 'EN', 'Mountaineering Equipment', 'A solid hammer made with a solid hard wood handle and steel head.  Weight: 800g.', 'Granite Hammer', '2', 'P58ME2TL9.jpg', '10-1-2021', '.28')\n",
      "INSERT INTO PRODUCT (PRODUCT_PRODUCTION_COST_money, PRODUCT_id, LANGUAGE_name, PRODUCT_LINE_name, PRODUCT_description, PRODUCT_name, PRODUCT_LINE_id, PRODUCT_image, PRODUCT_INTRODUCTION_DATE_date, PRODUCT_MARGIN_percentage) VALUES ('46.15', '59', 'EN', 'Mountaineering Equipment', 'Shovel has removable aluminum handle and heat treated aluminum blade.', 'Granite Shovel', '2', 'P59ME2TL9.jpg', '10-1-2021', '.23')\n",
      "INSERT INTO PRODUCT (PRODUCT_PRODUCTION_COST_money, PRODUCT_id, LANGUAGE_name, PRODUCT_LINE_name, PRODUCT_description, PRODUCT_name, PRODUCT_LINE_id, PRODUCT_image, PRODUCT_INTRODUCTION_DATE_date, PRODUCT_MARGIN_percentage) VALUES ('85.11', '6', 'EN', 'Camping Equipment', 'Cascade set features 1, 2, and 3 liter pots with individual lids that double as fry pans or plates. Pot gripper and nylon carrying bag included.  Weight: 1.4 kg.', 'TrailChef Deluxe Cook Set', '1', 'P06CE1CG1.jpg', '5-3-2013', '.28')\n",
      "INSERT INTO PRODUCT (PRODUCT_PRODUCTION_COST_money, PRODUCT_id, LANGUAGE_name, PRODUCT_LINE_name, PRODUCT_description, PRODUCT_name, PRODUCT_LINE_id, PRODUCT_image, PRODUCT_INTRODUCTION_DATE_date, PRODUCT_MARGIN_percentage) VALUES ('10', '60', 'EN', 'Mountaineering Equipment', 'All-purpose stainless steel pliers. Sheath included. Length (closed) 12cm, (open) 16 cm. Weight: 200 g.', 'Granite Grip', '2', 'P60ME2TL9.jpg', '10-1-2021', '.5')\n",
      "INSERT INTO PRODUCT (PRODUCT_PRODUCTION_COST_money, PRODUCT_id, LANGUAGE_name, PRODUCT_LINE_name, PRODUCT_description, PRODUCT_name, PRODUCT_LINE_id, PRODUCT_image, PRODUCT_INTRODUCTION_DATE_date, PRODUCT_MARGIN_percentage) VALUES ('20', '61', 'EN', 'Mountaineering Equipment', 'Camping axe with clear coated wood handle.', 'Granite Axe', '2', 'P61ME2TL9.jpg', '10-1-2021', '.5')\n",
      "INSERT INTO PRODUCT (PRODUCT_PRODUCTION_COST_money, PRODUCT_id, LANGUAGE_name, PRODUCT_LINE_name, PRODUCT_description, PRODUCT_name, PRODUCT_LINE_id, PRODUCT_image, PRODUCT_INTRODUCTION_DATE_date, PRODUCT_MARGIN_percentage) VALUES ('47.06', '62', 'EN', 'Mountaineering Equipment', 'The Edge Extreme is a collapsible plier-shaped gadget, three knife blades, file and scissors, perfect for the outdoors.  Carrying case included.', 'Granite Extreme', '2', 'P62ME2TL9.jpg', '10-1-2021', '.4')\n",
      "INSERT INTO PRODUCT (PRODUCT_PRODUCTION_COST_money, PRODUCT_id, LANGUAGE_name, PRODUCT_LINE_name, PRODUCT_description, PRODUCT_name, PRODUCT_LINE_id, PRODUCT_image, PRODUCT_INTRODUCTION_DATE_date, PRODUCT_MARGIN_percentage) VALUES ('30', '63', 'EN', 'Personal Accessories', 'Padded leather strap, precision Swiss quartz movement, sweep second hand, 24-hour time ring, luminous hands and markers, hardened mineral crystal.', 'Mountain Man Analog', '3', 'P63PA3WT10.jpg', '15-2-2011', '.33')\n",
      "INSERT INTO PRODUCT (PRODUCT_PRODUCTION_COST_money, PRODUCT_id, LANGUAGE_name, PRODUCT_LINE_name, PRODUCT_description, PRODUCT_name, PRODUCT_LINE_id, PRODUCT_image, PRODUCT_INTRODUCTION_DATE_date, PRODUCT_MARGIN_percentage) VALUES ('20', '64', 'EN', 'Personal Accessories', 'Tough rubber strap, digital face, hardened crystal, water-resistant to 50 meters.', 'Mountain Man Digital', '3', 'P64PA3WT10.jpg', '15-2-2011', '.5')\n",
      "INSERT INTO PRODUCT (PRODUCT_PRODUCTION_COST_money, PRODUCT_id, LANGUAGE_name, PRODUCT_LINE_name, PRODUCT_description, PRODUCT_name, PRODUCT_LINE_id, PRODUCT_image, PRODUCT_INTRODUCTION_DATE_date, PRODUCT_MARGIN_percentage) VALUES ('39', '65', 'EN', 'Personal Accessories', 'Tough rubber strap, precision Swiss quartz movement, imbedded digital face, luminous hands and markers, hardened mineral crystal, start and stop buttons, water-resistant to 50 meters.', 'Mountain Man Deluxe', '3', 'P65PA3WT10.jpg', '5-3-2013', '.5')\n",
      "INSERT INTO PRODUCT (PRODUCT_PRODUCTION_COST_money, PRODUCT_id, LANGUAGE_name, PRODUCT_LINE_name, PRODUCT_description, PRODUCT_name, PRODUCT_LINE_id, PRODUCT_image, PRODUCT_INTRODUCTION_DATE_date, PRODUCT_MARGIN_percentage) VALUES ('45', '66', 'EN', 'Personal Accessories', 'Combination watch, altimeter, compass and barometric gauge.  Heavy duty rubber strap,  hardened mineral crystal.', 'Mountain Man Combination', '3', 'P66PA3WT10.jpg', '5-3-2013', '.5')\n",
      "INSERT INTO PRODUCT (PRODUCT_PRODUCTION_COST_money, PRODUCT_id, LANGUAGE_name, PRODUCT_LINE_name, PRODUCT_description, PRODUCT_name, PRODUCT_LINE_id, PRODUCT_image, PRODUCT_INTRODUCTION_DATE_date, PRODUCT_MARGIN_percentage) VALUES ('116.19', '67', 'EN', 'Personal Accessories', 'Solid titanium case, crown, bezel.  Combination nylon and rubber strap. Analog representation on digital interface.  Backlit, hardened mineral crystal, water-resistant to 100 meters.', 'Mountain Man Extreme', '3', 'P67PA3WT10.jpg', '26-10-2016', '.51')\n",
      "INSERT INTO PRODUCT (PRODUCT_PRODUCTION_COST_money, PRODUCT_id, LANGUAGE_name, PRODUCT_LINE_name, PRODUCT_description, PRODUCT_name, PRODUCT_LINE_id, PRODUCT_image, PRODUCT_INTRODUCTION_DATE_date, PRODUCT_MARGIN_percentage) VALUES ('46.15', '68', 'EN', 'Personal Accessories', 'The Polar Sun sunglasses have 3 mm thick lenses, which makes excellent protective eyewear for sport and safety.', 'Polar Sun', '3', 'P68PA3EW11.jpg', '15-2-2011', '.23')\n",
      "INSERT INTO PRODUCT (PRODUCT_PRODUCTION_COST_money, PRODUCT_id, LANGUAGE_name, PRODUCT_LINE_name, PRODUCT_description, PRODUCT_name, PRODUCT_LINE_id, PRODUCT_image, PRODUCT_INTRODUCTION_DATE_date, PRODUCT_MARGIN_percentage) VALUES ('73.33', '69', 'EN', 'Personal Accessories', 'Polar Ice sunglasses have polarized lenses to combat glare from snow. Unbreakable nylon frame.', 'Polar Ice', '3', 'P69PA3EW11.jpg', '15-2-2011', '.33')\n",
      "INSERT INTO PRODUCT (PRODUCT_PRODUCTION_COST_money, PRODUCT_id, LANGUAGE_name, PRODUCT_LINE_name, PRODUCT_description, PRODUCT_name, PRODUCT_LINE_id, PRODUCT_image, PRODUCT_INTRODUCTION_DATE_date, PRODUCT_MARGIN_percentage) VALUES ('46.38', '7', 'EN', 'Camping Equipment', 'A single burner stove with integral tank.  It features precise flame control so you will never have to settle for burnt camp food again.  Weight 624 g, fuel is white gas.', 'TrailChef Single Flame', '1', 'P07CE1CG1.jpg', '15-2-2011', '.28')\n",
      "INSERT INTO PRODUCT (PRODUCT_PRODUCTION_COST_money, PRODUCT_id, LANGUAGE_name, PRODUCT_LINE_name, PRODUCT_description, PRODUCT_name, PRODUCT_LINE_id, PRODUCT_image, PRODUCT_INTRODUCTION_DATE_date, PRODUCT_MARGIN_percentage) VALUES ('80', '70', 'EN', 'Personal Accessories', 'Six base classic nylon composite frame sunglasses with wire core temples.', 'Polar Sports', '3', 'P70PA3EW11.jpg', '5-3-2013', '.33')\n",
      "INSERT INTO PRODUCT (PRODUCT_PRODUCTION_COST_money, PRODUCT_id, LANGUAGE_name, PRODUCT_LINE_name, PRODUCT_description, PRODUCT_name, PRODUCT_LINE_id, PRODUCT_image, PRODUCT_INTRODUCTION_DATE_date, PRODUCT_MARGIN_percentage) VALUES ('60', '71', 'EN', 'Personal Accessories', 'Acrylex lenses in the Polar Wave sunglasses absorb up to 90% of visible light, 96% ultraviolet, and 82% infrared light. Unbreakable nylon frames.', 'Polar Wave', '3', 'P71PA3EW11.jpg', '5-3-2013', '.33')\n",
      "INSERT INTO PRODUCT (PRODUCT_PRODUCTION_COST_money, PRODUCT_id, LANGUAGE_name, PRODUCT_LINE_name, PRODUCT_description, PRODUCT_name, PRODUCT_LINE_id, PRODUCT_image, PRODUCT_INTRODUCTION_DATE_date, PRODUCT_MARGIN_percentage) VALUES ('72.5', '72', 'EN', 'Personal Accessories', 'Ideal for skiing and winter mountaineering. Frame is durable polyurethane with soft interior foam and adjustable woven elastic band providing an excellent fit. Weight: 139 g.', 'Polar Extreme', '3', 'P72PA3EW11.jpg', '26-10-2016', '.5')\n",
      "INSERT INTO PRODUCT (PRODUCT_PRODUCTION_COST_money, PRODUCT_id, LANGUAGE_name, PRODUCT_LINE_name, PRODUCT_description, PRODUCT_name, PRODUCT_LINE_id, PRODUCT_image, PRODUCT_INTRODUCTION_DATE_date, PRODUCT_MARGIN_percentage) VALUES ('8.56', '73', 'EN', 'Personal Accessories', 'Single stainless steel blade folding knife. Length: (closed) 5 cm, (blade) 4.5 cm. Blade thickness 2 mm.  Weight: 90 g.', 'Single Edge', '3', 'P73PA3KV12.jpg', '15-2-2011', '.28')\n",
      "INSERT INTO PRODUCT (PRODUCT_PRODUCTION_COST_money, PRODUCT_id, LANGUAGE_name, PRODUCT_LINE_name, PRODUCT_description, PRODUCT_name, PRODUCT_LINE_id, PRODUCT_image, PRODUCT_INTRODUCTION_DATE_date, PRODUCT_MARGIN_percentage) VALUES ('11.43', '74', 'EN', 'Personal Accessories', 'Double stainless steel blade folding knife. Length: (closed) 6 cm, (blades) 5.5 cm and 3 cm. Blade thickness: 2 mm. Weight: 110 g.', 'Double Edge', '3', 'P74PA3KV12.jpg', '15-2-2011', '.28')\n",
      "INSERT INTO PRODUCT (PRODUCT_PRODUCTION_COST_money, PRODUCT_id, LANGUAGE_name, PRODUCT_LINE_name, PRODUCT_description, PRODUCT_name, PRODUCT_LINE_id, PRODUCT_image, PRODUCT_INTRODUCTION_DATE_date, PRODUCT_MARGIN_percentage) VALUES ('80', '75', 'EN', 'Personal Accessories', 'Multi-purpose pocketknife ruggedly constructed of stainless steel.  Includes 4 different blades, corkscrew, saw, scissors, pliers and more.', 'Edge Extreme', '3', 'P75PA3KV12.jpg', '26-10-2016', '.28')\n",
      "INSERT INTO PRODUCT (PRODUCT_PRODUCTION_COST_money, PRODUCT_id, LANGUAGE_name, PRODUCT_LINE_name, PRODUCT_description, PRODUCT_name, PRODUCT_LINE_id, PRODUCT_image, PRODUCT_INTRODUCTION_DATE_date, PRODUCT_MARGIN_percentage) VALUES ('23.53', '76', 'EN', 'Personal Accessories', 'Knife is 33 cm long with a 20 cm blade made of surgical stainless steel. The handle is laminated wood. The custom made sheath is black leather.', 'Bear Edge', '3', 'P76PA3KV12.jpg', '15-2-2011', '.4')\n",
      "INSERT INTO PRODUCT (PRODUCT_PRODUCTION_COST_money, PRODUCT_id, LANGUAGE_name, PRODUCT_LINE_name, PRODUCT_description, PRODUCT_name, PRODUCT_LINE_id, PRODUCT_image, PRODUCT_INTRODUCTION_DATE_date, PRODUCT_MARGIN_percentage) VALUES ('45', '77', 'EN', 'Personal Accessories', 'Features a 23 cm razor edge blade tempered from a special blend of stainless steel. The hollow handle has a compartment containing survival gear including a compass. Overall length: 36cm.', 'Bear Survival Edge', '3', 'P77PA3KV12.jpg', '26-10-2016', '.5')\n",
      "INSERT INTO PRODUCT (PRODUCT_PRODUCTION_COST_money, PRODUCT_id, LANGUAGE_name, PRODUCT_LINE_name, PRODUCT_description, PRODUCT_name, PRODUCT_LINE_id, PRODUCT_image, PRODUCT_INTRODUCTION_DATE_date, PRODUCT_MARGIN_percentage) VALUES ('79.19', '78', 'EN', 'Personal Accessories', 'This 7 x 35 model is economical and performs well optically. Fully coated lenses, compact and  lightweight. Rubber covered for secure and comfortable grip. Soft carrying case included.', 'Seeker 35', '3', 'P78PA3BN13.jpg', '15-2-2011', '.2')\n",
      "INSERT INTO PRODUCT (PRODUCT_PRODUCTION_COST_money, PRODUCT_id, LANGUAGE_name, PRODUCT_LINE_name, PRODUCT_description, PRODUCT_name, PRODUCT_LINE_id, PRODUCT_image, PRODUCT_INTRODUCTION_DATE_date, PRODUCT_MARGIN_percentage) VALUES ('92.58', '79', 'EN', 'Personal Accessories', 'Rubber coated and ergonomically designed. The wide angle of view of 10 x 50 keeps more of your subject in view at high magnification. Soft carrying case included.', 'Seeker 50', '3', 'P78PA3BN13.jpg', '15-2-2011', '.25')\n",
      "INSERT INTO PRODUCT (PRODUCT_PRODUCTION_COST_money, PRODUCT_id, LANGUAGE_name, PRODUCT_LINE_name, PRODUCT_description, PRODUCT_name, PRODUCT_LINE_id, PRODUCT_image, PRODUCT_INTRODUCTION_DATE_date, PRODUCT_MARGIN_percentage) VALUES ('75', '8', 'EN', 'Camping Equipment', 'The TrailChef Double Flame is a camp stove which attaches directly to fuel canisters. Features precise flame control and a built-in windscreen.  Weight is 850 g, fuel is propane.', 'TrailChef Double Flame', '1', 'P08CE1CG1.jpg', '5-3-2013', '.41')\n",
      "INSERT INTO PRODUCT (PRODUCT_PRODUCTION_COST_money, PRODUCT_id, LANGUAGE_name, PRODUCT_LINE_name, PRODUCT_description, PRODUCT_name, PRODUCT_LINE_id, PRODUCT_image, PRODUCT_INTRODUCTION_DATE_date, PRODUCT_MARGIN_percentage) VALUES ('94.12', '80', 'EN', 'Personal Accessories', 'These ergonomic binoculars are light-weight and easy to hold.  Strong construction make them impervious to water, fog and thermal shocks. Soft carrying case included.', 'Seeker Extreme', '3', 'P80PA3BN13.jpg', '5-3-2013', '.4')\n",
      "INSERT INTO PRODUCT (PRODUCT_PRODUCTION_COST_money, PRODUCT_id, LANGUAGE_name, PRODUCT_LINE_name, PRODUCT_description, PRODUCT_name, PRODUCT_LINE_id, PRODUCT_image, PRODUCT_INTRODUCTION_DATE_date, PRODUCT_MARGIN_percentage) VALUES ('40', '81', 'EN', 'Personal Accessories', 'This 8 x 22 model is economical and performs well optically. Fully coated lenses, compact and  light-weight. Rubber covered for secure and comfortable grip. Soft carrying case included.', 'Seeker Mini', '3', 'P81PA3BN13.jpg', '5-3-2013', '.5')\n",
      "INSERT INTO PRODUCT (PRODUCT_PRODUCTION_COST_money, PRODUCT_id, LANGUAGE_name, PRODUCT_LINE_name, PRODUCT_description, PRODUCT_name, PRODUCT_LINE_id, PRODUCT_image, PRODUCT_INTRODUCTION_DATE_date, PRODUCT_MARGIN_percentage) VALUES ('20', '82', 'EN', 'Personal Accessories', 'Traditional magnetic compass in a stainless steel casing.', 'Glacier Basic', '3', 'P82PA3NV14.jpg', '5-3-2013', '.33')\n",
      "INSERT INTO PRODUCT (PRODUCT_PRODUCTION_COST_money, PRODUCT_id, LANGUAGE_name, PRODUCT_LINE_name, PRODUCT_description, PRODUCT_name, PRODUCT_LINE_id, PRODUCT_image, PRODUCT_INTRODUCTION_DATE_date, PRODUCT_MARGIN_percentage) VALUES ('56.25', '83', 'EN', 'Personal Accessories', 'Magnetic Compass has a large sighting mirror with v-notch allowing for quick acquisition and accurate bearings to distant landmarks.', 'Glacier Deluxe', '3', 'P83PA3NV14.jpg', '5-3-2013', '.37')\n",
      "INSERT INTO PRODUCT (PRODUCT_PRODUCTION_COST_money, PRODUCT_id, LANGUAGE_name, PRODUCT_LINE_name, PRODUCT_description, PRODUCT_name, PRODUCT_LINE_id, PRODUCT_image, PRODUCT_INTRODUCTION_DATE_date, PRODUCT_MARGIN_percentage) VALUES ('78.55', '84', 'EN', 'Personal Accessories', 'Global Positioning System that is small, lightweight, and rugged. Incredibly easy to use, dedicated operation keys, and three user-friendly navigation screens.', 'Glacier GPS', '3', 'P84PA3NV14.jpg', '5-3-2013', '.28')\n",
      "INSERT INTO PRODUCT (PRODUCT_PRODUCTION_COST_money, PRODUCT_id, LANGUAGE_name, PRODUCT_LINE_name, PRODUCT_description, PRODUCT_name, PRODUCT_LINE_id, PRODUCT_image, PRODUCT_INTRODUCTION_DATE_date, PRODUCT_MARGIN_percentage) VALUES ('176.47', '85', 'EN', 'Personal Accessories', 'Hand held GPS receiver with color display. Incredibly easy to use, three user-friendly navigation screens, and saves two routes. Up to 20 hours of battery life just on two AA batteries.', 'Glacier GPS Extreme', '3', 'P85PA3NV14.jpg', '12-6-2015', '.4')\n",
      "INSERT INTO PRODUCT (PRODUCT_PRODUCTION_COST_money, PRODUCT_id, LANGUAGE_name, PRODUCT_LINE_name, PRODUCT_description, PRODUCT_name, PRODUCT_LINE_id, PRODUCT_image, PRODUCT_INTRODUCTION_DATE_date, PRODUCT_MARGIN_percentage) VALUES ('2', '86', 'EN', 'Outdoor Protection', 'Contains no chemicals. Repels mosquitoes, black flies, biting midges, and fleas effectively. Safe for children and environmentally sound.  Active ingredient: Citronella 10%. 100 ml.', 'BugShield Natural', '4', 'P86OP4IR15.jpg', '15-2-2011', '.67')\n",
      "INSERT INTO PRODUCT (PRODUCT_PRODUCTION_COST_money, PRODUCT_id, LANGUAGE_name, PRODUCT_LINE_name, PRODUCT_description, PRODUCT_name, PRODUCT_LINE_id, PRODUCT_image, PRODUCT_INTRODUCTION_DATE_date, PRODUCT_MARGIN_percentage) VALUES ('2', '87', 'EN', 'Outdoor Protection', 'Repels black flies, ticks, mosquitoes, chiggers, deer flies and stable flies. Protects against Lyme ticks. Contains 23.75% active ingredient. Clear, odorless formula. 100 ml.', 'BugShield Spray', '4', 'P86OP4IR15.jpg', '15-2-2011', '.67')\n",
      "INSERT INTO PRODUCT (PRODUCT_PRODUCTION_COST_money, PRODUCT_id, LANGUAGE_name, PRODUCT_LINE_name, PRODUCT_description, PRODUCT_name, PRODUCT_LINE_id, PRODUCT_image, PRODUCT_INTRODUCTION_DATE_date, PRODUCT_MARGIN_percentage) VALUES ('2', '88', 'EN', 'Outdoor Protection', 'Repels black flies, ticks, mosquitoes, chiggers, deer flies and stable flies. Contains 8.75% active ingredient for a lighter application. Odorless cream. 100 ml.', 'BugShield Lotion Lite', '4', 'P86OP4IR15.jpg', '15-2-2011', '.7')\n",
      "INSERT INTO PRODUCT (PRODUCT_PRODUCTION_COST_money, PRODUCT_id, LANGUAGE_name, PRODUCT_LINE_name, PRODUCT_description, PRODUCT_name, PRODUCT_LINE_id, PRODUCT_image, PRODUCT_INTRODUCTION_DATE_date, PRODUCT_MARGIN_percentage) VALUES ('2.5', '89', 'EN', 'Outdoor Protection', 'Repels black flies, ticks, mosquitoes, chiggers, deer flies and stable flies. Protects against Lyme ticks. Contains 23.75% active ingredient. Odorless cream. 100 ml.', 'BugShield Lotion', '4', 'P86OP4IR15.jpg', '15-2-2011', '.63')\n",
      "INSERT INTO PRODUCT (PRODUCT_PRODUCTION_COST_money, PRODUCT_id, LANGUAGE_name, PRODUCT_LINE_name, PRODUCT_description, PRODUCT_name, PRODUCT_LINE_id, PRODUCT_image, PRODUCT_INTRODUCTION_DATE_date, PRODUCT_MARGIN_percentage) VALUES ('9', '9', 'EN', 'Camping Equipment', 'This old-fashioned style kettle is made of durable enamel.  Weight: 350g, Holds 1.5 liters.', 'TrailChef Kettle', '1', 'P09CE1CG1.jpg', '5-3-2013', '.25')\n",
      "INSERT INTO PRODUCT (PRODUCT_PRODUCTION_COST_money, PRODUCT_id, LANGUAGE_name, PRODUCT_LINE_name, PRODUCT_description, PRODUCT_name, PRODUCT_LINE_id, PRODUCT_image, PRODUCT_INTRODUCTION_DATE_date, PRODUCT_MARGIN_percentage) VALUES ('2.5', '90', 'EN', 'Outdoor Protection', 'Highest amount of the active ingredient, 38%, for up to 10 hours of protection. Repels black flies, ticks, mosquitoes, deer flies and stable flies. Clear, odorless formula. 100 ml.', 'BugShield Extreme', '4', 'P86OP4IR15.jpg', '15-2-2011', '.63')\n",
      "INSERT INTO PRODUCT (PRODUCT_PRODUCTION_COST_money, PRODUCT_id, LANGUAGE_name, PRODUCT_LINE_name, PRODUCT_description, PRODUCT_name, PRODUCT_LINE_id, PRODUCT_image, PRODUCT_INTRODUCTION_DATE_date, PRODUCT_MARGIN_percentage) VALUES ('2', '91', 'EN', 'Outdoor Protection', 'Sun Blocker is waterproof and lasts up to eight hours. It contains natural skin conditioners and moisturizers, as well as titanium dioxide for the ultimate level of protection.', 'Sun Blocker', '4', 'P91OP4SS16.jpg', '15-2-2011', '.6')\n",
      "INSERT INTO PRODUCT (PRODUCT_PRODUCTION_COST_money, PRODUCT_id, LANGUAGE_name, PRODUCT_LINE_name, PRODUCT_description, PRODUCT_name, PRODUCT_LINE_id, PRODUCT_image, PRODUCT_INTRODUCTION_DATE_date, PRODUCT_MARGIN_percentage) VALUES ('2', '92', 'EN', 'Outdoor Protection', 'Easy to apply to your nose, lips, ears and other sensitive areas. Provides long-lasting protection from sun, wind and water to keep your skin soft and moist.', 'Sun Shelter Stick', '4', 'P91OP4SS16.jpg', '15-2-2011', '.6')\n",
      "INSERT INTO PRODUCT (PRODUCT_PRODUCTION_COST_money, PRODUCT_id, LANGUAGE_name, PRODUCT_LINE_name, PRODUCT_description, PRODUCT_name, PRODUCT_LINE_id, PRODUCT_image, PRODUCT_INTRODUCTION_DATE_date, PRODUCT_MARGIN_percentage) VALUES ('2', '93', 'EN', 'Outdoor Protection', 'SPF 15 protects against all harmful rays.', 'Sun Shelter 15', '4', 'P91OP4SS16.jpg', '15-2-2011', '.6')\n",
      "INSERT INTO PRODUCT (PRODUCT_PRODUCTION_COST_money, PRODUCT_id, LANGUAGE_name, PRODUCT_LINE_name, PRODUCT_description, PRODUCT_name, PRODUCT_LINE_id, PRODUCT_image, PRODUCT_INTRODUCTION_DATE_date, PRODUCT_MARGIN_percentage) VALUES ('2', '94', 'EN', 'Outdoor Protection', 'SPF 30 provides maximum protection and is long-lasting.', 'Sun Shelter 30', '4', 'P91OP4SS16.jpg', '15-2-2011', '.6')\n",
      "INSERT INTO PRODUCT (PRODUCT_PRODUCTION_COST_money, PRODUCT_id, LANGUAGE_name, PRODUCT_LINE_name, PRODUCT_description, PRODUCT_name, PRODUCT_LINE_id, PRODUCT_image, PRODUCT_INTRODUCTION_DATE_date, PRODUCT_MARGIN_percentage) VALUES ('3', '95', 'EN', 'Outdoor Protection', 'PABA free sunscreen, SPF 30, poison oak and ivy protectant, waterproof, insect repellent against fleas, mosquitoes, deer ticks, gnats.  Moisturizer contains Vitamin E and Lanolin.', 'Sun Shield', '4', 'P91OP4SS16.jpg', '15-2-2011', '.5')\n",
      "INSERT INTO PRODUCT (PRODUCT_PRODUCTION_COST_money, PRODUCT_id, LANGUAGE_name, PRODUCT_LINE_name, PRODUCT_description, PRODUCT_name, PRODUCT_LINE_id, PRODUCT_image, PRODUCT_INTRODUCTION_DATE_date, PRODUCT_MARGIN_percentage) VALUES ('16.43', '96', 'EN', 'Outdoor Protection', 'A personal first aid kit is recommended for every outdoor hiker or camper. Contains basic wound management, advanced infectious control, and more. Size: 17 x 10 x 7 cm. Weight: 0.3 kg.', 'Compact Relief Kit', '4', 'P96OP4FA17.jpg', '15-2-2011', '.28')\n",
      "INSERT INTO PRODUCT (PRODUCT_PRODUCTION_COST_money, PRODUCT_id, LANGUAGE_name, PRODUCT_LINE_name, PRODUCT_description, PRODUCT_name, PRODUCT_LINE_id, PRODUCT_image, PRODUCT_INTRODUCTION_DATE_date, PRODUCT_MARGIN_percentage) VALUES ('25', '97', 'EN', 'Outdoor Protection', 'A complete medical kit suitable for families with children.  Contains cough syrup, oral rehydration salts, advanced wound management, and more.  Size: 22 x 12 x 7 cm. Weight: 0.6 kg.', 'Deluxe Family Relief Kit', '4', 'P96OP4FA17.jpg', '5-3-2013', '.28')\n",
      "INSERT INTO PRODUCT (PRODUCT_PRODUCTION_COST_money, PRODUCT_id, LANGUAGE_name, PRODUCT_LINE_name, PRODUCT_description, PRODUCT_name, PRODUCT_LINE_id, PRODUCT_image, PRODUCT_INTRODUCTION_DATE_date, PRODUCT_MARGIN_percentage) VALUES ('3', '98', 'EN', 'Outdoor Protection', 'Use the Calamine Relief for allergic skin reactions, helps combat itching and swelling.', 'Calamine Relief', '4', 'P98OP4FA17.jpg', '15-2-2011', '.5')\n",
      "INSERT INTO PRODUCT (PRODUCT_PRODUCTION_COST_money, PRODUCT_id, LANGUAGE_name, PRODUCT_LINE_name, PRODUCT_description, PRODUCT_name, PRODUCT_LINE_id, PRODUCT_image, PRODUCT_INTRODUCTION_DATE_date, PRODUCT_MARGIN_percentage) VALUES ('2', '99', 'EN', 'Outdoor Protection', 'Perfect for minor burns and sunburn, the aloe vera provides quick relief.', 'Aloe Relief', '4', 'P99OP4FA17.jpg', '15-2-2011', '.6')\n"
     ]
    }
   ],
   "source": [
    "# Merge\n",
    "product_etl = pd.merge(product, product_type, on=\"PRODUCT_TYPE_CODE\")\n",
    "product_etl = pd.merge(product_etl, product_line, on=\"PRODUCT_LINE_CODE\")\n",
    "\n",
    "# Hernoem\n",
    "product_etl = product_etl.rename(columns=json_file)\n",
    "\n",
    "# Filter\n",
    "product_etl = filterColumns(product_etl)\n",
    "\n",
    "# Check\n",
    "sizeCheck(product_etl,10)\n",
    "product_etl\n",
    "\n",
    "# Create Table\n",
    "createTable(product_etl, 'PRODUCT_id')"
   ]
  },
  {
   "cell_type": "markdown",
   "metadata": {},
   "source": [
    "### Sales_staff"
   ]
  },
  {
   "cell_type": "code",
   "execution_count": 34,
   "metadata": {},
   "outputs": [
    {
     "name": "stdout",
     "output_type": "stream",
     "text": [
      "Table has 23 columns\n",
      "CREATE TABLE SALES_STAFF (SALES_STAFF_id INT NOT NULL PRIMARY KEY, FLAG_image NVARCHAR(60), POSITION_name NVARCHAR(80), ADDRESS1_address NVARCHAR(80), LAST_NAME_name NVARCHAR(80), REGION_name NVARCHAR(80), MANAGER_id INT, COUNTRY_name NVARCHAR(80), SALES_TERRITORY_id INT, EMAIL_address NVARCHAR(80), FIRST_NAME_name NVARCHAR(80), POSTAL_ZONE_code NVARCHAR(40), ADDRESS2_address NVARCHAR(80), WORK_PHONE_phone NVARCHAR(30), CURRENCY_name NVARCHAR(80), SALES_BRANCH_id INT, EXTENSION_number INT, LANGUAGE_name NVARCHAR(80), TERRITORY_name NVARCHAR(80), CITY_name NVARCHAR(80), DATE_HIRED_date NVARCHAR(30), COUNTRY_id INT, FAX_phone NVARCHAR(30))\n"
     ]
    }
   ],
   "source": [
    "# Merge\n",
    "sales_staff_etl = pd.merge(sales_staff, sales_branch, on='SALES_BRANCH_CODE')\n",
    "sales_staff_etl = pd.merge(sales_staff_etl, country, on='COUNTRY_CODE')\n",
    "sales_staff_etl = pd.merge(sales_staff_etl, sales_territory, on='SALES_TERRITORY_CODE')\n",
    "\n",
    "# Hernoem\n",
    "sales_staff_etl = sales_staff_etl.rename(columns=json_file)\n",
    "\n",
    "# Filter\n",
    "sales_staff_etl = filterColumns(sales_staff_etl)\n",
    "\n",
    "# Check\n",
    "sizeCheck(sales_staff_etl,23)\n",
    "sales_staff_etl\n",
    "\n",
    "# Create Table\n",
    "createTable(sales_staff_etl, 'SALES_STAFF_id')"
   ]
  },
  {
   "cell_type": "markdown",
   "metadata": {},
   "source": [
    "### Satisfaction_type"
   ]
  },
  {
   "cell_type": "code",
   "execution_count": 35,
   "metadata": {},
   "outputs": [
    {
     "name": "stdout",
     "output_type": "stream",
     "text": [
      "Table has 2 columns\n",
      "CREATE TABLE SATISFACTION_TYPE (SATISFACTION_TYPE_id INT NOT NULL PRIMARY KEY, SATISFACTION_TYPE_description NTEXT)\n"
     ]
    }
   ],
   "source": [
    "# Hernoem\n",
    "satisfaction_type_etl = satisfaction_type.rename(columns=json_file)\n",
    "\n",
    "# Filter\n",
    "satisfaction_type_etl = filterColumns(satisfaction_type_etl)\n",
    "\n",
    "# Check\n",
    "sizeCheck(satisfaction_type_etl,2)\n",
    "satisfaction_type_etl\n",
    "\n",
    "# Create Table\n",
    "createTable(satisfaction_type_etl, 'SATISFACTION_TYPE_id')"
   ]
  },
  {
   "cell_type": "markdown",
   "metadata": {},
   "source": [
    "### Course"
   ]
  },
  {
   "cell_type": "code",
   "execution_count": 36,
   "metadata": {},
   "outputs": [
    {
     "name": "stdout",
     "output_type": "stream",
     "text": [
      "Table has 2 columns\n",
      "CREATE TABLE COURSE (COURSE_id INT NOT NULL PRIMARY KEY, COURSE_description NTEXT)\n"
     ]
    }
   ],
   "source": [
    "# Hernoem\n",
    "course_etl = course.rename(columns=json_file)\n",
    "\n",
    "# Filter\n",
    "course_etl = filterColumns(course_etl)\n",
    "\n",
    "# Check\n",
    "sizeCheck(course_etl,2)\n",
    "course_etl\n",
    "\n",
    "# Create Table\n",
    "createTable(course_etl, 'COURSE_id')"
   ]
  },
  {
   "cell_type": "markdown",
   "metadata": {},
   "source": [
    "### Forecast"
   ]
  },
  {
   "cell_type": "code",
   "execution_count": 37,
   "metadata": {},
   "outputs": [
    {
     "name": "stdout",
     "output_type": "stream",
     "text": [
      "Table has 4 columns\n",
      "CREATE TABLE PRODUCT (PRODUCT_id INT NOT NULL PRIMARY KEY, MONTH_number INT, EXPECTED_VOLUME_number INT, YEAR_number INT)\n",
      "Table already exists in database\n"
     ]
    }
   ],
   "source": [
    "# Hernoem\n",
    "sales_forecast_etl = sales_forecast.rename(columns=json_file)\n",
    "\n",
    "# Filter\n",
    "sales_forecast_etl = filterColumns(sales_forecast_etl)\n",
    "\n",
    "# Check\n",
    "sizeCheck(sales_forecast_etl,4)\n",
    "sales_forecast_etl\n",
    "\n",
    "# Create Table\n",
    "createTable(sales_forecast_etl, 'PRODUCT_id')"
   ]
  },
  {
   "cell_type": "markdown",
   "metadata": {},
   "source": [
    "### Retailer_contact"
   ]
  },
  {
   "cell_type": "code",
   "execution_count": 38,
   "metadata": {},
   "outputs": [
    {
     "name": "stdout",
     "output_type": "stream",
     "text": [
      "Table has 23 columns\n",
      "CREATE TABLE RETAILER_CONTACT (RETAILER_CONTACT_id INT NOT NULL PRIMARY KEY, FLAG_image NVARCHAR(60), ADDRESS1_address NVARCHAR(80), JOB_POSITION_name NVARCHAR(80), LAST_NAME_name NVARCHAR(80), REGION_name NVARCHAR(80), GENDER_char CHAR(1), COUNTRY_name NVARCHAR(80), SALES_TERRITORY_id INT, EMAIL_address NVARCHAR(80), RETAILER_id INT, FIRST_NAME_name NVARCHAR(80), POSTAL_ZONE_code NVARCHAR(40), ADDRESS2_address NVARCHAR(80), CURRENCY_name NVARCHAR(80), RETAILER_SITE_id INT, EXTENSION_number INT, LANGUAGE_name NVARCHAR(80), TERRITORY_name NVARCHAR(80), CITY_name NVARCHAR(80), ACTIVE_INDICATOR_bool BIT, COUNTRY_id INT, FAX_phone NVARCHAR(30))\n"
     ]
    }
   ],
   "source": [
    "# Merge\n",
    "retailer_contact_etl = pd.merge(retailer_contact, retailer_site, on='RETAILER_SITE_CODE')\n",
    "retailer_contact_etl = pd.merge(retailer_contact_etl, country, on='COUNTRY_CODE')\n",
    "retailer_contact_etl = pd.merge(retailer_contact_etl, sales_territory, on='SALES_TERRITORY_CODE')\\\n",
    "    \n",
    "# Hernoem \n",
    "retailer_contact_etl = retailer_contact_etl.rename(columns=json_file)\n",
    "\n",
    "# Filter\n",
    "retailer_contact_etl = filterColumns(retailer_contact_etl)\n",
    "\n",
    "# Check\n",
    "sizeCheck(retailer_contact_etl,23)\n",
    "retailer_contact_etl\n",
    "\n",
    "# Create Table\n",
    "createTable(retailer_contact_etl, 'RETAILER_CONTACT_id')"
   ]
  },
  {
   "cell_type": "markdown",
   "metadata": {},
   "source": [
    "### Retailer"
   ]
  },
  {
   "cell_type": "code",
   "execution_count": 40,
   "metadata": {},
   "outputs": [
    {
     "name": "stdout",
     "output_type": "stream",
     "text": [
      "Table has 22 columns\n",
      "CREATE TABLE RETAILER (RETAILER_id INT NOT NULL PRIMARY KEY, FLAG_image NVARCHAR(60), RETAILER_MR_id INT, ADDRESS1_address NVARCHAR(80), SEGMENT_LANGUAGE_id INT, PHONE_phone NVARCHAR(30), COMPANY_name NVARCHAR(80), REGION_name NVARCHAR(80), COUNTRY_name NVARCHAR(80), SALES_TERRITORY_id INT, RETAILER_TYPE_id INT, RETAILER_TYPE_name NVARCHAR(80), POSTAL_ZONE_code NVARCHAR(40), ADDRESS2_address NVARCHAR(80), CURRENCY_name NVARCHAR(80), COUNTRY_LANGUAGE_id INT, RETAILER_name NVARCHAR(80), TERRITORY_name NVARCHAR(80), SEGMENT_code NVARCHAR(40), CITY_name NVARCHAR(80), COUNTRY_id INT, FAX_phone NVARCHAR(30))\n"
     ]
    }
   ],
   "source": [
    "# Merge\n",
    "retailer_etl = pd.merge(retailer, retailer_headquarters, on='RETAILER_CODEMR')\n",
    "retailer_etl = pd.merge(retailer_etl, retailer_type, on='RETAILER_TYPE_CODE')\n",
    "\n",
    "# Merge en hernoem de taal kolommen via de country tabel en retailer_segment tabel\n",
    "retailer_etl = pd.merge(retailer_etl, retailer_segment, on='SEGMENT_CODE').rename(columns={'LANGUAGE':'SEGMENT_LANGUAGE_code'})\n",
    "retailer_etl = pd.merge(retailer_etl, country, on='COUNTRY_CODE').rename(columns={'LANGUAGE':'COUNTRY_LANGUAGE_code'})\n",
    "\n",
    "# Sluit kolommen vroegtijdig uit vanwege samenvoegingsnaamconflicten, want duidelijk creert SQL Server deze kolommen.\n",
    "retailer_etl = excludeColumns(retailer_etl, ['TRIAL219','TRIAL222_x','TRIAL222_y','TRIAL222'])\n",
    "\n",
    "# Hernoem\n",
    "retailer_etl = pd.merge(retailer_etl, sales_territory, on='SALES_TERRITORY_CODE')\\\n",
    "    .rename(columns=json_file)\n",
    "\n",
    "# Filter\n",
    "retailer_etl = filterColumns(retailer_etl)\n",
    "\n",
    "# Check\n",
    "sizeCheck(retailer_etl,22)\n",
    "\n",
    "# Create Table\n",
    "createTable(retailer_etl, 'RETAILER_id')"
   ]
  },
  {
   "cell_type": "markdown",
   "metadata": {},
   "source": [
    "### Orders"
   ]
  },
  {
   "cell_type": "code",
   "execution_count": 21,
   "metadata": {},
   "outputs": [
    {
     "name": "stdout",
     "output_type": "stream",
     "text": [
      "Table has 7 columns\n",
      "CREATE TABLE ORDERS (ORDERS_id INT NOT NULL PRIMARY KEY, RETAILER_CONTACT_id INT, ORDER_DATE_date NVARCHAR(30), ORDER_METHOD_id INT, ORDER_id INT, ORDER_METHOD_name NVARCHAR(80), RETAILER_name NVARCHAR(80), SALES_STAFF_id INT)\n"
     ]
    }
   ],
   "source": [
    "# Merge\n",
    "order_etl = pd.merge(order_header, order_method, on='ORDER_METHOD_CODE').rename(columns=json_file)\n",
    "\n",
    "# Sluit redundante kolommen met externe sleutels uit\n",
    "# RETAILER_SITE_code word afgeleid van RETAILER_CONTACT_id\n",
    "# SALES_BRANCH_code word afgeleid van SALES_STAFF_id\n",
    "order_etl = excludeColumns(order_etl, ['RETAILER_SITE_id', 'SALES_BRANCH_id'])\n",
    "\n",
    "order_etl.reset_index(inplace=True)\n",
    "order_etl.rename(columns={'index': 'SURROGATE_KEY'}, inplace=True)\n",
    "\n",
    "# Filter\n",
    "order_etl = filterColumns(order_etl)\n",
    "\n",
    "# Check\n",
    "sizeCheck(order_etl,7)\n",
    "order_etl\n",
    "\n",
    "# Create Table\n",
    "createTable(order_etl, 'ORDERS_id')"
   ]
  },
  {
   "cell_type": "markdown",
   "metadata": {},
   "source": [
    "### Returned_season"
   ]
  },
  {
   "cell_type": "code",
   "execution_count": 42,
   "metadata": {},
   "outputs": [
    {
     "name": "stdout",
     "output_type": "stream",
     "text": [
      "Table has 2 columns\n",
      "CREATE TABLE RETURN_REASON (RETURN_REASON_id INT NOT NULL PRIMARY KEY, RETURN_REASON_description NTEXT)\n"
     ]
    }
   ],
   "source": [
    "# Hernoem\n",
    "return_reason_etl = return_reason.rename(columns=json_file)\n",
    "\n",
    "# Filter\n",
    "return_reason_etl = filterColumns(return_reason_etl)\n",
    "\n",
    "# Check\n",
    "sizeCheck(return_reason_etl,2)\n",
    "return_reason_etl\n",
    "\n",
    "# Create Table\n",
    "createTable(return_reason_etl, 'RETURN_REASON_id')"
   ]
  },
  {
   "cell_type": "markdown",
   "metadata": {},
   "source": [
    "### Returned_item"
   ]
  },
  {
   "cell_type": "code",
   "execution_count": 43,
   "metadata": {},
   "outputs": [
    {
     "name": "stdout",
     "output_type": "stream",
     "text": [
      "Table has 5 columns\n",
      "CREATE TABLE RETURNS (RETURNS_id INT NOT NULL PRIMARY KEY, RETURN_REASON_id INT, ORDER_DETAIL_id INT, RETURN_DATE_date NVARCHAR(30), RETURN_QUANTITY_number INT)\n"
     ]
    }
   ],
   "source": [
    "# Hernoem \n",
    "returned_item_etl = returned_item.rename(columns=json_file)\n",
    "\n",
    "# Filter \n",
    "returned_item_etl = filterColumns(returned_item_etl)\n",
    "\n",
    "# Check\n",
    "sizeCheck(returned_item_etl,5)\n",
    "returned_item_etl\n",
    "\n",
    "# Create Table\n",
    "createTable(returned_item_etl, 'RETURNS_id')"
   ]
  },
  {
   "cell_type": "markdown",
   "metadata": {},
   "source": [
    "### Order_details"
   ]
  },
  {
   "cell_type": "code",
   "execution_count": 44,
   "metadata": {},
   "outputs": [
    {
     "name": "stdout",
     "output_type": "stream",
     "text": [
      "Table has 7 columns\n",
      "CREATE TABLE ORDER_DETAIL (ORDER_DETAIL_id INT NOT NULL PRIMARY KEY, UNIT_COST_money DECIMAL(19,4), UNIT_PRICE_money DECIMAL(19,4), UNIT_SALE_PRICE_money DECIMAL(19,4), ORDER_TABLE_id INT, QUANTITY_number INT, PRODUCT_id INT)\n"
     ]
    }
   ],
   "source": [
    "# Hernoem\n",
    "order_detail_etl = order_details.rename(columns=json_file)\n",
    "\n",
    "# Filter\n",
    "order_detail_etl = filterColumns(order_detail_etl)\n",
    "\n",
    "# Check\n",
    "sizeCheck(order_detail_etl,7)\n",
    "order_detail_etl\n",
    "\n",
    "# Create Table\n",
    "createTable(order_detail_etl, 'ORDER_DETAIL_id')"
   ]
  },
  {
   "cell_type": "markdown",
   "metadata": {},
   "source": [
    "## Loading"
   ]
  },
  {
   "cell_type": "markdown",
   "metadata": {},
   "source": [
    "Hieronder gaan we de data inladen vanuit de SQL Server database. Met de database verzorgen we ervoor dat we makkelijk de data kunnen inladen in de database. We maken een functie die de data inlaad in de database."
   ]
  },
  {
   "cell_type": "code",
   "execution_count": null,
   "metadata": {},
   "outputs": [],
   "source": []
  }
 ],
 "metadata": {
  "kernelspec": {
   "display_name": "warehouse-YJ77YNfe-py3.12",
   "language": "python",
   "name": "python3"
  },
  "language_info": {
   "codemirror_mode": {
    "name": "ipython",
    "version": 3
   },
   "file_extension": ".py",
   "mimetype": "text/x-python",
   "name": "python",
   "nbconvert_exporter": "python",
   "pygments_lexer": "ipython3",
   "version": "3.12.2"
  }
 },
 "nbformat": 4,
 "nbformat_minor": 2
}
